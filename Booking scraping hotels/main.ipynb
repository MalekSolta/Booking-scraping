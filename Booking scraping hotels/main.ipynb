{
 "cells": [
  {
   "cell_type": "code",
   "execution_count": 23,
   "id": "b15d18bc",
   "metadata": {},
   "outputs": [],
   "source": [
    "from bs4 import BeautifulSoup\n",
    "from selenium import webdriver\n",
    "from selenium.webdriver.chrome.service import Service\n",
    "from selenium.webdriver.common.by import By\n",
    "import time\n",
    "from selenium.webdriver.support import expected_conditions as EC\n",
    "from datetime import datetime, timedelta\n",
    "from selenium.common.exceptions import NoSuchElementException\n",
    "# Set the path to the chromedriver executable\n",
    "PATH = r\"C:\\chromedriver\\chromedriver-win64\\chromedriver.exe\"\n",
    "\n",
    "# Create a Service object\n",
    "service = Service(PATH)\n",
    "\n",
    "# Create a Chrome webdriver using the Service object\n",
    "driver = webdriver.Chrome(service=service)"
   ]
  },
  {
   "cell_type": "code",
   "execution_count": 24,
   "id": "1146f223",
   "metadata": {},
   "outputs": [],
   "source": [
    "#pays=['thailande','indonesie','emirate','france','italie','maroc','tunisie','egypt']"
   ]
  },
  {
   "cell_type": "code",
   "execution_count": 25,
   "id": "21c2607c",
   "metadata": {},
   "outputs": [],
   "source": [
    "#villes=['bangkok', 'phuket', 'koh samui', 'jakarta', 'bali', 'Dubaï', 'paris', 'nice', 'corse', 'rome', 'milan', 'marrakech', 'djerba', 'tunis', 'hammamet', 'sousse', 'caire', 'Charm el-Cheikh']\n",
    "villes=['bangkok']"
   ]
  },
  {
   "cell_type": "markdown",
   "id": "433f4f0f",
   "metadata": {},
   "source": [
    "# EXTRACTION DES LIENS"
   ]
  },
  {
   "cell_type": "code",
   "execution_count": 28,
   "id": "5206cf69",
   "metadata": {},
   "outputs": [
    {
     "ename": "NoSuchWindowException",
     "evalue": "Message: no such window: target window already closed\nfrom unknown error: web view not found\n  (Session info: chrome=126.0.6478.63)\nStacktrace:\n\tGetHandleVerifier [0x00007FF6D1431F52+60322]\n\t(No symbol) [0x00007FF6D13ACEC9]\n\t(No symbol) [0x00007FF6D1267EBA]\n\t(No symbol) [0x00007FF6D123D5A5]\n\t(No symbol) [0x00007FF6D12E36B7]\n\t(No symbol) [0x00007FF6D12FB331]\n\t(No symbol) [0x00007FF6D12DBFC3]\n\t(No symbol) [0x00007FF6D12A9617]\n\t(No symbol) [0x00007FF6D12AA211]\n\tGetHandleVerifier [0x00007FF6D17494AD+3301629]\n\tGetHandleVerifier [0x00007FF6D17936D3+3605283]\n\tGetHandleVerifier [0x00007FF6D1789450+3563680]\n\tGetHandleVerifier [0x00007FF6D14E4326+790390]\n\t(No symbol) [0x00007FF6D13B750F]\n\t(No symbol) [0x00007FF6D13B3404]\n\t(No symbol) [0x00007FF6D13B3592]\n\t(No symbol) [0x00007FF6D13A2F9F]\n\tBaseThreadInitThunk [0x00007FFC71BF257D+29]\n\tRtlUserThreadStart [0x00007FFC72C4AF28+40]\n",
     "output_type": "error",
     "traceback": [
      "\u001b[1;31m---------------------------------------------------------------------------\u001b[0m",
      "\u001b[1;31mNoSuchWindowException\u001b[0m                     Traceback (most recent call last)",
      "Cell \u001b[1;32mIn[28], line 4\u001b[0m\n\u001b[0;32m      1\u001b[0m liste_liens\u001b[38;5;241m=\u001b[39m[]\n\u001b[0;32m      2\u001b[0m \u001b[38;5;28;01mfor\u001b[39;00m one_ville \u001b[38;5;129;01min\u001b[39;00m villes :\n\u001b[0;32m      3\u001b[0m     \u001b[38;5;66;03m#acces à la page d'une ville\u001b[39;00m\n\u001b[1;32m----> 4\u001b[0m     driver\u001b[38;5;241m.\u001b[39mget(\u001b[38;5;124mf\u001b[39m\u001b[38;5;124m'\u001b[39m\u001b[38;5;124mhttps://www.booking.com/searchresults.fr.html?ss=\u001b[39m\u001b[38;5;132;01m{\u001b[39;00mone_ville\u001b[38;5;132;01m}\u001b[39;00m\u001b[38;5;124m'\u001b[39m)\n\u001b[0;32m      5\u001b[0m     time\u001b[38;5;241m.\u001b[39msleep(\u001b[38;5;241m3\u001b[39m)\n\u001b[0;32m      6\u001b[0m     \u001b[38;5;66;03m#appuie sur le boutton hotel\u001b[39;00m\n",
      "File \u001b[1;32m~\\anaconda3\\Lib\\site-packages\\selenium\\webdriver\\remote\\webdriver.py:356\u001b[0m, in \u001b[0;36mWebDriver.get\u001b[1;34m(self, url)\u001b[0m\n\u001b[0;32m    354\u001b[0m \u001b[38;5;28;01mdef\u001b[39;00m \u001b[38;5;21mget\u001b[39m(\u001b[38;5;28mself\u001b[39m, url: \u001b[38;5;28mstr\u001b[39m) \u001b[38;5;241m-\u001b[39m\u001b[38;5;241m>\u001b[39m \u001b[38;5;28;01mNone\u001b[39;00m:\n\u001b[0;32m    355\u001b[0m \u001b[38;5;250m    \u001b[39m\u001b[38;5;124;03m\"\"\"Loads a web page in the current browser session.\"\"\"\u001b[39;00m\n\u001b[1;32m--> 356\u001b[0m     \u001b[38;5;28mself\u001b[39m\u001b[38;5;241m.\u001b[39mexecute(Command\u001b[38;5;241m.\u001b[39mGET, {\u001b[38;5;124m\"\u001b[39m\u001b[38;5;124murl\u001b[39m\u001b[38;5;124m\"\u001b[39m: url})\n",
      "File \u001b[1;32m~\\anaconda3\\Lib\\site-packages\\selenium\\webdriver\\remote\\webdriver.py:347\u001b[0m, in \u001b[0;36mWebDriver.execute\u001b[1;34m(self, driver_command, params)\u001b[0m\n\u001b[0;32m    345\u001b[0m response \u001b[38;5;241m=\u001b[39m \u001b[38;5;28mself\u001b[39m\u001b[38;5;241m.\u001b[39mcommand_executor\u001b[38;5;241m.\u001b[39mexecute(driver_command, params)\n\u001b[0;32m    346\u001b[0m \u001b[38;5;28;01mif\u001b[39;00m response:\n\u001b[1;32m--> 347\u001b[0m     \u001b[38;5;28mself\u001b[39m\u001b[38;5;241m.\u001b[39merror_handler\u001b[38;5;241m.\u001b[39mcheck_response(response)\n\u001b[0;32m    348\u001b[0m     response[\u001b[38;5;124m\"\u001b[39m\u001b[38;5;124mvalue\u001b[39m\u001b[38;5;124m\"\u001b[39m] \u001b[38;5;241m=\u001b[39m \u001b[38;5;28mself\u001b[39m\u001b[38;5;241m.\u001b[39m_unwrap_value(response\u001b[38;5;241m.\u001b[39mget(\u001b[38;5;124m\"\u001b[39m\u001b[38;5;124mvalue\u001b[39m\u001b[38;5;124m\"\u001b[39m, \u001b[38;5;28;01mNone\u001b[39;00m))\n\u001b[0;32m    349\u001b[0m     \u001b[38;5;28;01mreturn\u001b[39;00m response\n",
      "File \u001b[1;32m~\\anaconda3\\Lib\\site-packages\\selenium\\webdriver\\remote\\errorhandler.py:229\u001b[0m, in \u001b[0;36mErrorHandler.check_response\u001b[1;34m(self, response)\u001b[0m\n\u001b[0;32m    227\u001b[0m         alert_text \u001b[38;5;241m=\u001b[39m value[\u001b[38;5;124m\"\u001b[39m\u001b[38;5;124malert\u001b[39m\u001b[38;5;124m\"\u001b[39m]\u001b[38;5;241m.\u001b[39mget(\u001b[38;5;124m\"\u001b[39m\u001b[38;5;124mtext\u001b[39m\u001b[38;5;124m\"\u001b[39m)\n\u001b[0;32m    228\u001b[0m     \u001b[38;5;28;01mraise\u001b[39;00m exception_class(message, screen, stacktrace, alert_text)  \u001b[38;5;66;03m# type: ignore[call-arg]  # mypy is not smart enough here\u001b[39;00m\n\u001b[1;32m--> 229\u001b[0m \u001b[38;5;28;01mraise\u001b[39;00m exception_class(message, screen, stacktrace)\n",
      "\u001b[1;31mNoSuchWindowException\u001b[0m: Message: no such window: target window already closed\nfrom unknown error: web view not found\n  (Session info: chrome=126.0.6478.63)\nStacktrace:\n\tGetHandleVerifier [0x00007FF6D1431F52+60322]\n\t(No symbol) [0x00007FF6D13ACEC9]\n\t(No symbol) [0x00007FF6D1267EBA]\n\t(No symbol) [0x00007FF6D123D5A5]\n\t(No symbol) [0x00007FF6D12E36B7]\n\t(No symbol) [0x00007FF6D12FB331]\n\t(No symbol) [0x00007FF6D12DBFC3]\n\t(No symbol) [0x00007FF6D12A9617]\n\t(No symbol) [0x00007FF6D12AA211]\n\tGetHandleVerifier [0x00007FF6D17494AD+3301629]\n\tGetHandleVerifier [0x00007FF6D17936D3+3605283]\n\tGetHandleVerifier [0x00007FF6D1789450+3563680]\n\tGetHandleVerifier [0x00007FF6D14E4326+790390]\n\t(No symbol) [0x00007FF6D13B750F]\n\t(No symbol) [0x00007FF6D13B3404]\n\t(No symbol) [0x00007FF6D13B3592]\n\t(No symbol) [0x00007FF6D13A2F9F]\n\tBaseThreadInitThunk [0x00007FFC71BF257D+29]\n\tRtlUserThreadStart [0x00007FFC72C4AF28+40]\n"
     ]
    }
   ],
   "source": [
    "liste_liens=[]\n",
    "for one_ville in villes :\n",
    "    #acces à la page d'une ville\n",
    "    driver.get(f'https://www.booking.com/searchresults.fr.html?ss={one_ville}')\n",
    "    time.sleep(3)\n",
    "    #appuie sur le boutton hotel\n",
    "    hotel_button = driver.find_element(By.CSS_SELECTOR, '.eb2c6a4f4b.fbc68a5cc9.f0acc306d4.fb46259d02.f4a28b01d1 input[name=\"ht_id=204\"]')\n",
    "\n",
    "    hotel_button.click()\n",
    "    time.sleep(3)\n",
    "    \n",
    "    #scroll into afficher plus button\n",
    "    element_to_scroll_to = driver.find_element(By.XPATH, \"/html/body/div[7]/div[2]/div[1]/div[1]/div/div/p\") \n",
    "   \n",
    "    driver.execute_script(\"arguments[0].scrollIntoView();\", element_to_scroll_to)\n",
    "    time.sleep(3)\n",
    "    \n",
    "    #ajuster la position de la bar\n",
    "    scroll_up_by = 200  \n",
    "    driver.execute_script(f\"window.scrollBy(0, -{scroll_up_by});\")    \n",
    "    #trouver le boutton afficher plus\n",
    "    button_css_selector = 'button.bf33709ee1.a190bb5f27.b9d0a689f2.bb5314095f.b81c794d25.da4da790cd' \n",
    "    #verifier si le boutton existe ou non et appuyer sur lui\n",
    "    while True:\n",
    "        try:\n",
    "            \n",
    "            button = driver.find_element(By.CSS_SELECTOR, button_css_selector)\n",
    "            if button.is_displayed():\n",
    "                driver.execute_script(\"arguments[0].click();\", button)\n",
    "                print(\"Button clicked\")\n",
    "                time.sleep(1)  \n",
    "            else:\n",
    "                raise Exception(\"Button not visible\")\n",
    "        except Exception as e:\n",
    "            break\n",
    "    time.sleep(3)\n",
    "    \n",
    "    html=driver.page_source\n",
    "    soup=BeautifulSoup(html,'lxml')\n",
    "    links=soup.find_all('div',{'class':'e1ee0bef81'})\n",
    "    for l in links :\n",
    "        l=l.find('a').get('href')\n",
    "        \n",
    "\n",
    "        liste_liens.append(l)\n",
    "        print(l)\n",
    "        \n",
    " "
   ]
  },
  {
   "cell_type": "code",
   "execution_count": 5,
   "id": "94e3eeb4",
   "metadata": {},
   "outputs": [
    {
     "name": "stdout",
     "output_type": "stream",
     "text": [
      "0\n"
     ]
    }
   ],
   "source": [
    "print(len(liste_liens))\n",
    "data={'lien':liste_liens}"
   ]
  },
  {
   "cell_type": "code",
   "execution_count": 8,
   "id": "1a16c6de",
   "metadata": {},
   "outputs": [],
   "source": [
    "import pandas as pd\n",
    "dataset_liens = pd.DataFrame(data)\n",
    "dataset_liens.to_csv(\"data_hotel.csv\", index=False)"
   ]
  },
  {
   "cell_type": "code",
   "execution_count": 9,
   "id": "93327c0d",
   "metadata": {},
   "outputs": [],
   "source": [
    "dataset=pd.read_csv(\"data_hotel.csv\")"
   ]
  },
  {
   "cell_type": "code",
   "execution_count": 10,
   "id": "5c1f5fe0",
   "metadata": {},
   "outputs": [],
   "source": [
    "liste_liens=dataset['lien'].tolist()"
   ]
  },
  {
   "cell_type": "code",
   "execution_count": 11,
   "id": "d136168c",
   "metadata": {},
   "outputs": [
    {
     "ename": "IndexError",
     "evalue": "list index out of range",
     "output_type": "error",
     "traceback": [
      "\u001b[1;31m---------------------------------------------------------------------------\u001b[0m",
      "\u001b[1;31mIndexError\u001b[0m                                Traceback (most recent call last)",
      "Cell \u001b[1;32mIn[11], line 1\u001b[0m\n\u001b[1;32m----> 1\u001b[0m liste_liens[\u001b[38;5;241m0\u001b[39m]\n",
      "\u001b[1;31mIndexError\u001b[0m: list index out of range"
     ]
    }
   ],
   "source": [
    "liste_liens[0]"
   ]
  },
  {
   "cell_type": "markdown",
   "id": "e71d9978",
   "metadata": {},
   "source": [
    "# SPLIT DES DONNEES"
   ]
  },
  {
   "cell_type": "code",
   "execution_count": 6,
   "id": "7c053554",
   "metadata": {},
   "outputs": [],
   "source": [
    "a=1400\n",
    "b=2700\n",
    "c=4100\n",
    "d=5500\n",
    "part1=liste_liens[0:a]\n",
    "part2=liste_liens[a:b]\n",
    "part3=liste_liens[b:c]\n",
    "part4=liste_liens[c:d]\n",
    "part5=liste_liens[d:]\n",
    "list_all_parts=[part1,part2,part3,part4,part5]"
   ]
  },
  {
   "cell_type": "markdown",
   "id": "e81241ff",
   "metadata": {},
   "source": [
    "# EXTRACTION DES INFORMATIONS GENERALES"
   ]
  },
  {
   "cell_type": "code",
   "execution_count": 13,
   "id": "ca45221e",
   "metadata": {},
   "outputs": [
    {
     "ename": "NameError",
     "evalue": "name 'list_all_parts' is not defined",
     "output_type": "error",
     "traceback": [
      "\u001b[1;31m---------------------------------------------------------------------------\u001b[0m",
      "\u001b[1;31mNameError\u001b[0m                                 Traceback (most recent call last)",
      "Cell \u001b[1;32mIn[13], line 55\u001b[0m\n\u001b[0;32m     51\u001b[0m liste_accessibilite \u001b[38;5;241m=\u001b[39m []\n\u001b[0;32m     54\u001b[0m \u001b[38;5;66;03m#PARCOURIR PAR PARTIE !!!! ('repetez autant de fois que vous avez divisé votre dataset')\u001b[39;00m\n\u001b[1;32m---> 55\u001b[0m \u001b[38;5;28;01mfor\u001b[39;00m link \u001b[38;5;129;01min\u001b[39;00m list_all_parts[\u001b[38;5;241m1\u001b[39m][:\u001b[38;5;241m50\u001b[39m] :\n\u001b[0;32m     56\u001b[0m     \u001b[38;5;66;03m#get link\u001b[39;00m\n\u001b[0;32m     57\u001b[0m     driver\u001b[38;5;241m.\u001b[39mget(link)\n\u001b[0;32m     58\u001b[0m     time\u001b[38;5;241m.\u001b[39msleep(\u001b[38;5;241m2\u001b[39m)\n",
      "\u001b[1;31mNameError\u001b[0m: name 'list_all_parts' is not defined"
     ]
    }
   ],
   "source": [
    "liste_stars_rating=[]\n",
    "liste_nom_hotel=[]\n",
    "######\n",
    "liste_pays=[]\n",
    "liste_ville=[]\n",
    "liste_adresse=[]\n",
    "###########\n",
    "liste_note_commentaire=[]\n",
    "liste_note_personnel=[]\n",
    "liste_note_equipements=[]\n",
    "liste_note_proprete=[]\n",
    "liste_note_confort=[]\n",
    "liste_note_rapp_qua_prix=[]\n",
    "liste_note_sit_geographique=[]\n",
    "liste_note_wifi=[]\n",
    "###########\n",
    "liste_tt_pts_forts=[]\n",
    "###########\n",
    "liste_lieu_appro_celeb=[]\n",
    "liste_resto_cafe=[]\n",
    "liste_attraction=[]\n",
    "liste_env_nat=[]\n",
    "liste_tran_com=[]\n",
    "liste_aeroport=[]\n",
    "###########\n",
    "liste_type_logement=[]\n",
    "###########\n",
    "        \n",
    "liste_salle_de_bains = []\n",
    "liste_chambre = []\n",
    "liste_vue = []\n",
    "liste_en_exterieur = []\n",
    "liste_cuisine = []\n",
    "liste_equipements_en_chambre = []\n",
    "liste_coin_salon = []\n",
    "liste_high_tech = []\n",
    "liste_restauration = []\n",
    "liste_internet = []\n",
    "liste_parking = []\n",
    "liste_reception = []\n",
    "liste_services_de_nettoyage = []\n",
    "liste_services_d_affaires = []\n",
    "liste_en_supplement = []\n",
    "liste_securite = []\n",
    "liste_general = []\n",
    "liste_piscine_exterieure = []\n",
    "liste_bien_etre = []\n",
    "liste_langues_parlees = []\n",
    "liste_activites = []\n",
    "liste_divertissements = []\n",
    "liste_accessibilite = []\n",
    "\n",
    "\n",
    "#PARCOURIR PAR PARTIE !!!! ('repetez autant de fois que vous avez divisé votre dataset')\n",
    "for link in part1  :\n",
    "    #get link\n",
    "    driver.get(link)\n",
    "    time.sleep(2)\n",
    "    html=driver.page_source\n",
    "    soup=BeautifulSoup(html,'lxml')\n",
    "    # extraire nombre d'etoiles\n",
    "    stars_balise=soup.find('div',{'data-capla-component-boundary':'b-property-web-property-page/Badges'}).find('span',{'class':'f5113518a6 b49dbf078f'})\n",
    "    if stars_balise :\n",
    "        stars=stars_balise.find_all('span',{'class':'eed6ad6ae5 d3887aa36c f78d1a26ba'})\n",
    "        nb_stars=len(stars)\n",
    "        #print(nb_stars)\n",
    "    else :\n",
    "        nb_stars='no rating'\n",
    "        #print(nb_stars)\n",
    "    liste_stars_rating.append(nb_stars)\n",
    "    #extraire nom hotel\n",
    "    nom_hotel=soup.find('h2',{'class':'aceeb7ecbc pp-header__title'}).text.strip()\n",
    "    #print(nom_hotel)\n",
    "    liste_nom_hotel.append(nom_hotel)\n",
    "    #extraire la localisation\n",
    "    balise_localisation = soup.find('p',{'class':'address address_clean'})\n",
    "    \n",
    "    if balise_localisation :\n",
    "        localisation=balise_localisation.text.split(',')\n",
    "        pays=localisation[-1].strip()\n",
    "        ville=localisation[-2].strip()\n",
    "        adresse = \" \".join(localisation[:-2]).strip()\n",
    "        #print(pays)\n",
    "        #print(ville)\n",
    "        #print(adresse)\n",
    "\n",
    "        \n",
    "    else :\n",
    "        pays='unknown'\n",
    "        ville='unknown'\n",
    "        adresse='unknown'\n",
    "    liste_pays.append(pays)\n",
    "    liste_ville.append(ville)\n",
    "    liste_adresse.append(adresse)  \n",
    "    # extraire evaluations\n",
    "    client_evaluation_balise = soup.find('div',{'data-testid':'review-score-component'})\n",
    "    if client_evaluation_balise :\n",
    "        note_commentaire=client_evaluation_balise.find('div',{'class':'f13857cc8c e008572b71'}).text.split(' ')[-1]\n",
    "        ratings = {}\n",
    "\n",
    "        try:\n",
    "            elements = soup.find_all('div', {'class':'a338edc597 d58e499cfa'})\n",
    "            for element in elements:\n",
    "                category = element.find('div', {'class':'d08b880f48'}).text.strip()\n",
    "                score = element.find('div',{'class':'d08b880f48 f24c988168'}).text.strip()\n",
    "                ratings[category] = score\n",
    "                #print(category)\n",
    "                #print(score)\n",
    "        except Exception as e:\n",
    "            print(f\"Erreur: {e}\")\n",
    "\n",
    "\n",
    "\n",
    "        # Ajouter les catégories manquantes avec des valeurs vides\n",
    "        categories = [\"Personnel\", \"Équipements\", \"Propreté\", \"Confort\", \"Rapport qualité/prix\", \"Situation géographique\", \"Connexion Wi-Fi gratuite\"]\n",
    "        for category in categories:\n",
    "            if category not in ratings:\n",
    "                ratings[category] = 'unknown'\n",
    "        liste_note_commentaire.append(note_commentaire)   \n",
    "        liste_note_personnel.append(ratings.get(\"Personnel\"))\n",
    "        liste_note_equipements.append(ratings.get(\"Équipements\"))\n",
    "        liste_note_proprete.append(ratings.get(\"Propreté\"))\n",
    "        liste_note_confort.append(ratings.get(\"Confort\"))\n",
    "        liste_note_rapp_qua_prix.append(ratings.get(\"Rapport qualité/prix\"))\n",
    "        liste_note_sit_geographique.append(ratings.get(\"Situation géographique\"))\n",
    "        liste_note_wifi.append(ratings.get(\"Connexion Wi-Fi gratuite\"))\n",
    "    else :\n",
    "        liste_note_commentaire.append('unknown')   \n",
    "        liste_note_personnel.append('unknown')\n",
    "        liste_note_equipements.append('unknown')\n",
    "        liste_note_proprete.append('unknown')\n",
    "        liste_note_confort.append('unknown')\n",
    "        liste_note_rapp_qua_prix.append('unknown')\n",
    "        liste_note_sit_geographique.append('unknown')\n",
    "        liste_note_wifi.append('unknown')\n",
    "    #print(list_all_parts[0].index(link))\n",
    "    \n",
    "    #extraire les points forts\n",
    "    pts_forts=soup.find('div',{'class':'e3c02549fe'}).find_all('div',{'class':'eb2c6a4f4b e6314e676b'})\n",
    "    tt_pts_forts=''\n",
    "    for pt in pts_forts :\n",
    "        #print(pt.text)\n",
    "        tt_pts_forts=tt_pts_forts+pt.text+'||'\n",
    "        \n",
    "    #print(tt_pts_forts[0:-2])\n",
    "    liste_tt_pts_forts.append(tt_pts_forts[0:-2])\n",
    "    #extraire les lieux à proximités\n",
    "    balise_environ_hotel=soup.find_all('div',{'class':'f05c0542d9','data-testid':'poi-block'})\n",
    "    environ_hotel={}\n",
    "\n",
    "    for one_environ in balise_environ_hotel :\n",
    "        \n",
    "        \n",
    "        titre=one_environ.find('div',{'class':'b76c0d2759'}).text.strip()\n",
    "        #print(titre)\n",
    "        balise_lieu_appro=one_environ.find('ul',{'class':'c01d7b59ed e3909223fd e867a613c9 ee250051de'}).find_all('li',{'class':'d044972638 f8e733d28b ea41992eee ef88ed2ec6'})\n",
    "        tt_lieu_appro=''\n",
    "        for i in balise_lieu_appro :\n",
    "            sous_titre=i.find('div',{'class':'e98ee79976 daa8593c50 be4746a572'}).text\n",
    "            distance=i.find('div',{'class':'eb2c6a4f4b a5cc9f664c aac6785f35'}).text\n",
    "            if distance.find('\\xa0') != -1 :\n",
    "                distance=distance.replace('\\xa0','')\n",
    "            tt_lieu_appro=tt_lieu_appro+sous_titre+' '+distance+'||'\n",
    "        #print(tt_lieu_appro)\n",
    "        environ_hotel[titre] = tt_lieu_appro\n",
    "\n",
    "        liste_lieu_appro = [\"Lieux à proximité\",\"Restaurants et cafés\",\"Meilleures attractions\",\"Environnement naturel\",\"Transports en commun\",\"Aéroports les plus proches\"]\n",
    "        for one in liste_lieu_appro:\n",
    "            if one not in environ_hotel:\n",
    "                environ_hotel[one] = 'unknown'\n",
    "    liste_lieu_appro_celeb.append(environ_hotel.get(\"Lieux à proximité\"))\n",
    "    liste_resto_cafe.append(environ_hotel.get(\"Restaurants et cafés\"))\n",
    "    liste_attraction.append(environ_hotel.get(\"Meilleures attractions\"))\n",
    "    liste_env_nat.append(environ_hotel.get(\"Environnement naturel\"))\n",
    "    liste_tran_com.append(environ_hotel.get(\"Transports en commun\"))\n",
    "    liste_aeroport.append(environ_hotel.get(\"Aéroports les plus proches\"))\n",
    "    \n",
    "    ##rooms\n",
    "    \n",
    "    balise_rooms=soup.find('div',{'class':'description urt rooms_table_nodates rooms_table_noavailability'})\n",
    "    concat_logement=''\n",
    "    if balise_rooms :\n",
    "        type_logement_balise=balise_rooms.find_all('div',{'class':'da2b81213f f598d65660 ba88e720cd bf38bcbedd c6381d692a da1088d585 a9de3ca9ae caa4366310'})\n",
    "        for one_type in type_logement_balise :\n",
    "            type_logement=one_type.find('div',{'class':'ecf9109f95 a338edc597 ef9f46e53a'}).text.strip()\n",
    "            \n",
    "            #print(type_logement)\n",
    "            nb_voyageurs=one_type.find('div',{'class':'ecf9109f95 a338edc597 df3d4584cf'}).find('div',{'class':'cc3f48b4d5 d73a3259c4'}).get('aria-label').strip()\n",
    "            #print(nb_voyageurs)\n",
    "            concat_logement=concat_logement+type_logement.strip()+\" \"+\" : \"+nb_voyageurs+\"||\"\n",
    "    liste_type_logement.append(concat_logement[:-2])\n",
    "    #print(concat_logement[:-2])\n",
    "    balise_details_hotel=soup.find('div',{'data-testid':'property-section--content'}).find_all('div',{'class':'d9e9f0d108'})\n",
    "    details_dict={}\n",
    "    for one_detail in balise_details_hotel :\n",
    "        titre=one_detail.find('div',{'class':'e6008767ca c10494115d'}).text.strip()\n",
    "        print(titre)\n",
    "\n",
    "    #extraction des equipements\n",
    "    time.sleep(2)\n",
    "    balise_equipements_hotel=soup.find('div',{'class':'d9e9f0d108'}).find_all('div',{'class':'f3e87e25f0'})\n",
    "    equip_dict={}\n",
    "    for i in balise_equipements_hotel :\n",
    "        titre=i.find('div',{'class':'c91d26f0de e6314e676b b5138f45ca'}).text\n",
    "        #print(titre)\n",
    "        concat_contenu=''\n",
    "        \n",
    "        if titre in('Parking','Internet') :\n",
    "            concat_contenu=i.find('div',{'class':'eb2c6a4f4b a5cc9f664c b945536500'}).text.strip()\n",
    "        \n",
    "        else :\n",
    "            tout_contenu=i.find('ul',{'class':'c01d7b59ed e8034259d2 ee250051de'}).find_all('li',{'class':'d044972638 f8e733d28b ea41992eee ef88ed2ec6'})\n",
    "            for one_contenu in tout_contenu :\n",
    "                #print(one_contenu.text)\n",
    "                concat_contenu=concat_contenu+one_contenu.text.strip()+'||'\n",
    "        equip_dict[titre.strip()]=concat_contenu[:-2]\n",
    "    tt_type_equip=['Salle de bains','Chambre','Vue','En extérieur','Cuisine','Équipements en chambre','Coin salon','High-tech','Restauration','Internet','Parking','Réception','Services de nettoyage','Services d\\'affaires','En supplément','Sécurité','Général','Piscine extérieure','Bien-être','En supplément','Langues parlées','Activités','Divertissements et services aux familles','Accessibilité']\n",
    "    for equip in tt_type_equip:\n",
    "        if equip not in equip_dict:\n",
    "            equip_dict[equip] = 'unknown'\n",
    "            \n",
    "    liste_salle_de_bains.append(equip_dict.get('Salle de bains'))\n",
    "    liste_chambre.append(equip_dict.get('Chambre'))\n",
    "    liste_vue.append(equip_dict.get('Vue'))\n",
    "    liste_en_exterieur.append(equip_dict.get('En extérieur'))\n",
    "    liste_cuisine.append(equip_dict.get('Cuisine'))\n",
    "    liste_equipements_en_chambre.append(equip_dict.get('Équipements en chambre'))\n",
    "    liste_coin_salon.append(equip_dict.get('Coin salon'))\n",
    "    liste_high_tech.append(equip_dict.get('High-tech'))\n",
    "    liste_restauration.append(equip_dict.get('Restauration'))\n",
    "    liste_internet.append(equip_dict.get('Internet'))\n",
    "    liste_parking.append(equip_dict.get('Parking'))\n",
    "    liste_reception.append(equip_dict.get('Réception'))\n",
    "    liste_services_de_nettoyage.append(equip_dict.get('Services de nettoyage'))\n",
    "    liste_services_d_affaires.append(equip_dict.get('Services d\\'affaires'))\n",
    "    liste_en_supplement.append(equip_dict.get('En supplément'))\n",
    "    liste_securite.append(equip_dict.get('Sécurité'))\n",
    "    liste_general.append(equip_dict.get('Général'))\n",
    "    liste_piscine_exterieure.append(equip_dict.get('Piscine extérieure'))\n",
    "    liste_bien_etre.append(equip_dict.get('Bien-être'))\n",
    "    liste_langues_parlees.append(equip_dict.get('Langues parlées'))\n",
    "    liste_activites.append(equip_dict.get('Activités'))\n",
    "    liste_divertissements.append(equip_dict.get('Divertissements et services aux familles'))\n",
    "    liste_accessibilite.append(equip_dict.get('Accessibilité'))"
   ]
  },
  {
   "cell_type": "code",
   "execution_count": null,
   "id": "00cdee41",
   "metadata": {},
   "outputs": [],
   "source": [
    "print(len(['Salle de bains','Chambre','Vue','En extérieur','Cuisine','Équipements en chambre','Coin salon','High-tech','Restauration','Internet','Parking','Réception','Services de nettoyage','Services d\\'affaires','En supplément','Sécurité','Général','Piscine extérieure','Gratuit !','Bien-être','En supplément','Langues parlées']))\n",
    "\n",
    "\n",
    "print(len(['Salle de bains','Chambre','Vue','En extérieur','Cuisine','Équipements en chambre','Coin salon','High-tech','Restauration','Internet','Parking','Réception','Services de nettoyage','Services d\\'affaires','En supplément','Sécurité','Général','Piscine extérieure','Gratuit !','Bien-être','En supplément','Langues parlées','Activités','Divertissements et services aux familles','Accessibilité']))\n"
   ]
  },
  {
   "cell_type": "code",
   "execution_count": 82,
   "id": "a1e4d08d",
   "metadata": {},
   "outputs": [],
   "source": [
    "import pandas as pd\n",
    "data_hotel_general_info={'nom_hotel':liste_nom_hotel,'pays':liste_pays,'ville':liste_ville,'adresse':liste_adresse,\n",
    "                         'nb_stars':liste_stars_rating,'note_commentaire':liste_note_commentaire,'note_personnel':liste_note_personnel,\n",
    "                        'note_equipements':liste_note_equipements,'note_proprete':liste_note_proprete,'note_confort':liste_note_confort,\n",
    "                        'note_rapp_qual_prix':liste_note_rapp_qua_prix,'note_site_geo':liste_note_sit_geographique,\n",
    "                        'note_wifi':liste_note_wifi,'points_forts':liste_tt_pts_forts,'lieu_appro':liste_lieu_appro_celeb,\n",
    "                         'resto_cafe_appro':liste_resto_cafe,'attraction_appro':liste_attraction,'env_nat_appro':liste_env_nat,\n",
    "                         'transport_appro':liste_tran_com,'aeroport_appro':liste_tran_com,'type_logement':liste_type_logement,\n",
    "                         'salle_de_bains': liste_salle_de_bains,'chambre': liste_chambre,'vue': liste_vue,'en_exterieur': liste_en_exterieur,\n",
    "    'cuisine': liste_cuisine,'equipements_en_chambre': liste_equipements_en_chambre,'coin_salon': liste_coin_salon,\n",
    "    'high_tech': liste_high_tech,'restauration': liste_restauration,'internet': liste_internet,'parking': liste_parking,\n",
    "    'reception': liste_reception,'services_de_nettoyage': liste_services_de_nettoyage,'services_d_affaires': liste_services_d_affaires,\n",
    "    'en_supplement': liste_en_supplement,'securite': liste_securite,'general': liste_general,'piscine_exterieure': liste_piscine_exterieure,\n",
    "    'bien_etre': liste_bien_etre,'langues_parlees': liste_langues_parlees,'activites': liste_activites,'divertissements': liste_divertissements,\n",
    "    'accessibilite': liste_accessibilite}\n",
    "dataset_hotel_g_info = pd.DataFrame(data_hotel_general_info)\n",
    "i=1\n",
    "dataset_hotel_g_info.to_csv(f\"data_hotel_general_info_complete_finished_part{i}.csv\", index=False)\n",
    "\n",
    "\n",
    "\n",
    "\n",
    "\n",
    "\n",
    "\n",
    "\n",
    "\n",
    "\n"
   ]
  },
  {
   "cell_type": "code",
   "execution_count": 32,
   "id": "a486c1cc",
   "metadata": {},
   "outputs": [
    {
     "name": "stdout",
     "output_type": "stream",
     "text": [
      "liste_stars_rating: 50\n",
      "liste_nom_hotel: 50\n",
      "liste_pays: 50\n",
      "liste_ville: 50\n",
      "liste_adresse: 50\n",
      "liste_note_commentaire: 50\n",
      "liste_note_personnel: 50\n",
      "liste_note_equipements: 50\n",
      "liste_note_proprete: 50\n",
      "liste_note_confort: 50\n",
      "liste_note_rapp_qua_prix: 50\n",
      "liste_note_sit_geographique: 50\n",
      "liste_note_wifi: 50\n",
      "liste_tt_pts_forts: 50\n",
      "liste_lieu_appro_celeb: 50\n",
      "liste_resto_cafe: 50\n",
      "liste_attraction: 50\n",
      "liste_env_nat: 50\n",
      "liste_tran_com: 50\n",
      "liste_aeroport: 50\n",
      "type_logement: 50\n"
     ]
    }
   ],
   "source": [
    "longueurs_listes = {\n",
    "    \"liste_stars_rating\": len(liste_stars_rating),\n",
    "    \"liste_nom_hotel\": len(liste_nom_hotel),\n",
    "    \"liste_pays\": len(liste_pays),\n",
    "    \"liste_ville\": len(liste_ville),\n",
    "    \"liste_adresse\": len(liste_adresse),\n",
    "    \"liste_note_commentaire\": len(liste_note_commentaire),\n",
    "    \"liste_note_personnel\": len(liste_note_personnel),\n",
    "    \"liste_note_equipements\": len(liste_note_equipements),\n",
    "    \"liste_note_proprete\": len(liste_note_proprete),\n",
    "    \"liste_note_confort\": len(liste_note_confort),\n",
    "    \"liste_note_rapp_qua_prix\": len(liste_note_rapp_qua_prix),\n",
    "    \"liste_note_sit_geographique\": len(liste_note_sit_geographique),\n",
    "    \"liste_note_wifi\": len(liste_note_wifi),\n",
    "    \"liste_tt_pts_forts\": len(liste_tt_pts_forts),\n",
    "    \"liste_lieu_appro_celeb\": len(liste_lieu_appro_celeb),\n",
    "    \"liste_resto_cafe\": len(liste_resto_cafe),\n",
    "    \"liste_attraction\": len(liste_attraction),\n",
    "    \"liste_env_nat\": len(liste_env_nat),\n",
    "    \"liste_tran_com\": len(liste_tran_com),\n",
    "    \"liste_aeroport\": len(liste_aeroport),\n",
    "    'type_logement': len(liste_type_logement)\n",
    "}\n",
    "\n",
    "# Afficher les longueurs des listes\n",
    "for nom_liste, longueur in longueurs_listes.items():\n",
    "    print(f\"{nom_liste}: {longueur}\")"
   ]
  },
  {
   "cell_type": "code",
   "execution_count": 211,
   "id": "06818b97",
   "metadata": {
    "scrolled": true
   },
   "outputs": [
    {
     "data": {
      "text/plain": [
       "['10600 Bangkok', '10700 Bangkok', '10520 Bangkok']"
      ]
     },
     "execution_count": 211,
     "metadata": {},
     "output_type": "execute_result"
    }
   ],
   "source": [
    "liste_ville"
   ]
  },
  {
   "cell_type": "code",
   "execution_count": 212,
   "id": "eac6a8a1",
   "metadata": {},
   "outputs": [
    {
     "data": {
      "text/plain": [
       "['Thaïlande\\n\\n\\n–\\n\\nBon emplacement - voir la carte\\n\\n\\n–\\n\\nAccès à la gare',\n",
       " 'Thaïlande\\n\\n\\n–\\n\\nBon emplacement - voir la carte\\n\\n\\n–\\n\\nAccès à la gare',\n",
       " 'Thaïlande\\n\\n\\n–\\n\\nVoir la carte']"
      ]
     },
     "execution_count": 212,
     "metadata": {},
     "output_type": "execute_result"
    }
   ],
   "source": [
    "liste_pays"
   ]
  },
  {
   "cell_type": "code",
   "execution_count": 213,
   "id": "64fe5111",
   "metadata": {},
   "outputs": [
    {
     "data": {
      "text/plain": [
       "['535 537 Soi Krungthonburi 6  Krungthonburi Rd.  Bangrumbhoorang Klongsarn  Khlong San',\n",
       " '42 Baromratchonee road Bangbumru Bangphlat Bangkok Thailand 10700  Bang Phlat',\n",
       " 'BaanSang Place Suvarnabhumi BaanSang Place SuvarnabhumiBaanSang Place Suvarnabhumi. 1473/3 Ladkrabang Road soi 9/1  Lat Krabang  Bangkoknull  Bangkok']"
      ]
     },
     "execution_count": 213,
     "metadata": {},
     "output_type": "execute_result"
    }
   ],
   "source": [
    "liste_adresse"
   ]
  },
  {
   "cell_type": "code",
   "execution_count": 209,
   "id": "c3c034ef",
   "metadata": {},
   "outputs": [
    {
     "data": {
      "text/plain": [
       "['\\n\\n\\n\\n\\nBaanSang Place Suvarnabhumi BaanSang Place SuvarnabhumiBaanSang Place Suvarnabhumi. 1473/3 Ladkrabang Road soi 9/1',\n",
       " ' Lat Krabang',\n",
       " ' Bangkoknull',\n",
       " ' Bangkok',\n",
       " ' 10520 Bangkok',\n",
       " ' Thaïlande\\n\\n\\n–\\n\\nVoir la carte\\n\\n\\n']"
      ]
     },
     "execution_count": 209,
     "metadata": {},
     "output_type": "execute_result"
    }
   ],
   "source": [
    "localisation"
   ]
  },
  {
   "cell_type": "code",
   "execution_count": 205,
   "id": "fc2a3a06",
   "metadata": {},
   "outputs": [
    {
     "name": "stdout",
     "output_type": "stream",
     "text": [
      "Thaïlande\n"
     ]
    }
   ],
   "source": [
    "\n",
    "pays=localisation[-1].strip()\n",
    "ville=localisation[-2].strip()\n",
    "adresse = \" \".join(localisation[:-2]).strip()\n",
    "print(pays)"
   ]
  },
  {
   "cell_type": "code",
   "execution_count": 214,
   "id": "1fb73800",
   "metadata": {},
   "outputs": [
    {
     "name": "stdout",
     "output_type": "stream",
     "text": [
      "10520 Bangkok\n"
     ]
    }
   ],
   "source": [
    "print(ville)"
   ]
  },
  {
   "cell_type": "code",
   "execution_count": 215,
   "id": "c2a96cc7",
   "metadata": {},
   "outputs": [
    {
     "name": "stdout",
     "output_type": "stream",
     "text": [
      "BaanSang Place Suvarnabhumi BaanSang Place SuvarnabhumiBaanSang Place Suvarnabhumi. 1473/3 Ladkrabang Road soi 9/1  Lat Krabang  Bangkoknull  Bangkok\n"
     ]
    }
   ],
   "source": [
    "print(adresse)"
   ]
  },
  {
   "cell_type": "code",
   "execution_count": 80,
   "id": "b7c0951e",
   "metadata": {},
   "outputs": [],
   "source": [
    "liste_type_logement=[]\n",
    "\n",
    "liste_salle_de_bains = []\n",
    "liste_chambre = []\n",
    "liste_vue = []\n",
    "liste_en_exterieur = []\n",
    "liste_cuisine = []\n",
    "liste_equipements_en_chambre = []\n",
    "liste_coin_salon = []\n",
    "liste_high_tech = []\n",
    "liste_restauration = []\n",
    "liste_internet = []\n",
    "liste_parking = []\n",
    "liste_reception = []\n",
    "liste_services_de_nettoyage = []\n",
    "liste_services_d_affaires = []\n",
    "liste_en_supplement = []\n",
    "liste_securite = []\n",
    "liste_general = []\n",
    "liste_piscine_exterieure = []\n",
    "liste_bien_etre = []\n",
    "liste_langues_parlees = []\n",
    "liste_activites = []\n",
    "liste_divertissements = []\n",
    "liste_accessibilite = []\n",
    "\n",
    "\n",
    "for link in list_all_parts[0][:] :\n",
    "    driver.get(link)\n",
    "    time.sleep(3)\n",
    "    html=driver.page_source\n",
    "    soup=BeautifulSoup(html,'lxml')\n",
    "    time.sleep(2)\n",
    "    balise_equipements_hotel=soup.find('div',{'class':'d9e9f0d108'}).find_all('div',{'class':'f3e87e25f0'})\n",
    "    equip_dict={}\n",
    "    for i in balise_equipements_hotel :\n",
    "        titre=i.find('div',{'class':'c91d26f0de e6314e676b b5138f45ca'}).text\n",
    "        #print(titre)\n",
    "        concat_contenu=''\n",
    "        \n",
    "        if titre in('Parking','Internet') :\n",
    "            concat_contenu=i.find('div',{'class':'eb2c6a4f4b a5cc9f664c b945536500'}).text.strip()\n",
    "        \n",
    "        else :\n",
    "            tout_contenu=i.find('ul',{'class':'c01d7b59ed e8034259d2 ee250051de'}).find_all('li',{'class':'d044972638 f8e733d28b ea41992eee ef88ed2ec6'})\n",
    "            for one_contenu in tout_contenu :\n",
    "                #print(one_contenu.text)\n",
    "                concat_contenu=concat_contenu+one_contenu.text.strip()+'||'\n",
    "        equip_dict[titre.strip()]=concat_contenu[:-2]\n",
    "    tt_type_equip=['Salle de bains','Chambre','Vue','En extérieur','Cuisine','Équipements en chambre','Coin salon','High-tech','Restauration','Internet','Parking','Réception','Services de nettoyage','Services d\\'affaires','En supplément','Sécurité','Général','Piscine extérieure','Bien-être','En supplément','Langues parlées','Activités','Divertissements et services aux familles','Accessibilité']\n",
    "    for equip in tt_type_equip:\n",
    "        if equip not in equip_dict:\n",
    "            equip_dict[equip] = 'unknown'\n",
    "            \n",
    "    liste_salle_de_bains.append(equip_dict.get('Salle de bains'))\n",
    "    liste_chambre.append(equip_dict.get('Chambre'))\n",
    "    liste_vue.append(equip_dict.get('Vue'))\n",
    "    liste_en_exterieur.append(equip_dict.get('En extérieur'))\n",
    "    liste_cuisine.append(equip_dict.get('Cuisine'))\n",
    "    liste_equipements_en_chambre.append(equip_dict.get('Équipements en chambre'))\n",
    "    liste_coin_salon.append(equip_dict.get('Coin salon'))\n",
    "    liste_high_tech.append(equip_dict.get('High-tech'))\n",
    "    liste_restauration.append(equip_dict.get('Restauration'))\n",
    "    liste_internet.append(equip_dict.get('Internet'))\n",
    "    liste_parking.append(equip_dict.get('Parking'))\n",
    "    liste_reception.append(equip_dict.get('Réception'))\n",
    "    liste_services_de_nettoyage.append(equip_dict.get('Services de nettoyage'))\n",
    "    liste_services_d_affaires.append(equip_dict.get('Services d\\'affaires'))\n",
    "    liste_en_supplement.append(equip_dict.get('En supplément'))\n",
    "    liste_securite.append(equip_dict.get('Sécurité'))\n",
    "    liste_general.append(equip_dict.get('Général'))\n",
    "    liste_piscine_exterieure.append(equip_dict.get('Piscine extérieure'))\n",
    "    liste_bien_etre.append(equip_dict.get('Bien-être'))\n",
    "    liste_langues_parlees.append(equip_dict.get('Langues parlées'))\n",
    "    liste_activites.append(equip_dict.get('Activités'))\n",
    "    liste_divertissements.append(equip_dict.get('Divertissements et services aux familles'))\n",
    "    liste_accessibilite.append(equip_dict.get('Accessibilité'))"
   ]
  },
  {
   "cell_type": "code",
   "execution_count": 78,
   "id": "52ba3f42",
   "metadata": {},
   "outputs": [
    {
     "data": {
      "text/plain": [
       "{'Salle de bains': 'Papier toilette||Serviettes||Baignoire ou douche||Salle de bains privative||Toilettes||Articles de toilette gratuits||Sèche-cheveux||Douche',\n",
       " 'Chambre': 'Linge de maison||Armoire ou penderie',\n",
       " 'Vue': 'Vue sur la ville||Vue',\n",
       " 'En extérieur': 'Balcon||Terrasse',\n",
       " 'Cuisine': 'Bouilloire électrique||Réfrigérateur',\n",
       " 'Équipements en chambre': 'Portant',\n",
       " 'Activités': \"Location de vélos||Cours de cuisine En supplémentEn dehors de l'établissement||Visite ou cours autour de la culture locale En supplément||Happy hour En supplément||Visites à vélo En supplément||Balades à pied En supplément||Salle de jeux\",\n",
       " 'Coin salon': 'Bureau',\n",
       " 'High-tech': 'Télévision à écran plat||Chaînes satellite||Téléphone||Télévision',\n",
       " 'Restauration': 'Café sur place||Fruits En supplément||Vin/champagne En supplément||Menus enfants En supplément||Menus pour régimes spéciaux (sur demande)||Minibar||Restaurant',\n",
       " 'Internet': \"Une connexion Wi-Fi est disponible dans tout l'établissement gratuitemen\",\n",
       " 'Parking': 'Un parking gratuit et privé est disponible sur place (uniquement sur réservation',\n",
       " 'Réception': 'Service de concierge||Bagagerie||Enregistrement/règlement rapide',\n",
       " 'Divertissements et services aux familles': \"Barrières de sécurité pour bébés||Jeux de société/puzzles||Jeux de société / puzzles||Garde d'enfants\",\n",
       " 'Services de nettoyage': 'Service de ménage quotidien||Presse à pantalons En supplément||Service de repassage En supplément||Nettoyage à sec En supplément||Blanchisserie/laverie En supplément',\n",
       " \"Services d'affaires\": 'Fax/photocopies',\n",
       " 'Sécurité': \"Extincteurs||Caméras de surveillance à l'extérieur de l'établissement||Caméras de surveillance dans les parties communes||Détecteurs de fumée||Cartes d'accès||Clés d'accès||Sécurité 24h/24||Coffre-fort\",\n",
       " 'Général': \"Service de navette En supplément||Livraison de courses En supplément||Supérette sur place||Salon commun/salle de télévision||Espace fumeurs||Climatisation||Chambres familiales||Navette aéroport En supplément||Chambres non-fumeurs||Service d'étage\",\n",
       " 'Accessibilité': 'Étages supérieurs accessibles uniquement par les escaliers',\n",
       " 'Bien-être': 'Massage corporel||Massage des mains||Massage crânien||Massage des pieds||Massage du cou||Massage du dos||Massages',\n",
       " 'Langues parlées': 'Allemand||Anglais||Lao||Thaï||Tagalog',\n",
       " 'En supplément': 'unknown',\n",
       " 'Piscine extérieure': 'unknown'}"
      ]
     },
     "execution_count": 78,
     "metadata": {},
     "output_type": "execute_result"
    }
   ],
   "source": [
    "equip_dict"
   ]
  },
  {
   "cell_type": "markdown",
   "id": "1b7075a6",
   "metadata": {},
   "source": [
    "# EXTRACTION DES COMMENTAIRES"
   ]
  },
  {
   "cell_type": "code",
   "execution_count": null,
   "id": "a9690d8f",
   "metadata": {},
   "outputs": [],
   "source": []
  },
  {
   "cell_type": "code",
   "execution_count": 71,
   "id": "eccaebdc",
   "metadata": {},
   "outputs": [
    {
     "name": "stdout",
     "output_type": "stream",
     "text": [
      "Couple\n",
      "Voyageur individuel\n",
      "Couple\n",
      "Couple\n",
      "Famille\n",
      "Couple\n",
      "Couple\n",
      "Couple\n",
      "Couple\n",
      "Couple\n",
      "Couple\n",
      "Voyageur individuel\n",
      "Famille\n",
      "Couple\n",
      "Voyageur individuel\n",
      "Voyageur individuel\n",
      "Couple\n",
      "Groupe\n",
      "Groupe\n",
      "Famille\n"
     ]
    },
    {
     "ename": "KeyboardInterrupt",
     "evalue": "",
     "output_type": "error",
     "traceback": [
      "\u001b[1;31m---------------------------------------------------------------------------\u001b[0m",
      "\u001b[1;31mKeyboardInterrupt\u001b[0m                         Traceback (most recent call last)",
      "Cell \u001b[1;32mIn[71], line 11\u001b[0m\n\u001b[0;32m      8\u001b[0m liste_situation\u001b[38;5;241m=\u001b[39m[]\n\u001b[0;32m     10\u001b[0m \u001b[38;5;28;01mfor\u001b[39;00m link \u001b[38;5;129;01min\u001b[39;00m list_all_parts[\u001b[38;5;241m0\u001b[39m] :\n\u001b[1;32m---> 11\u001b[0m     driver\u001b[38;5;241m.\u001b[39mget(link)\n\u001b[0;32m     12\u001b[0m     time\u001b[38;5;241m.\u001b[39msleep(\u001b[38;5;241m3\u001b[39m)\n\u001b[0;32m     13\u001b[0m     html\u001b[38;5;241m=\u001b[39mdriver\u001b[38;5;241m.\u001b[39mpage_source\n",
      "File \u001b[1;32m~\\anaconda3\\Lib\\site-packages\\selenium\\webdriver\\remote\\webdriver.py:353\u001b[0m, in \u001b[0;36mWebDriver.get\u001b[1;34m(self, url)\u001b[0m\n\u001b[0;32m    351\u001b[0m \u001b[38;5;28;01mdef\u001b[39;00m \u001b[38;5;21mget\u001b[39m(\u001b[38;5;28mself\u001b[39m, url: \u001b[38;5;28mstr\u001b[39m) \u001b[38;5;241m-\u001b[39m\u001b[38;5;241m>\u001b[39m \u001b[38;5;28;01mNone\u001b[39;00m:\n\u001b[0;32m    352\u001b[0m \u001b[38;5;250m    \u001b[39m\u001b[38;5;124;03m\"\"\"Loads a web page in the current browser session.\"\"\"\u001b[39;00m\n\u001b[1;32m--> 353\u001b[0m     \u001b[38;5;28mself\u001b[39m\u001b[38;5;241m.\u001b[39mexecute(Command\u001b[38;5;241m.\u001b[39mGET, {\u001b[38;5;124m\"\u001b[39m\u001b[38;5;124murl\u001b[39m\u001b[38;5;124m\"\u001b[39m: url})\n",
      "File \u001b[1;32m~\\anaconda3\\Lib\\site-packages\\selenium\\webdriver\\remote\\webdriver.py:342\u001b[0m, in \u001b[0;36mWebDriver.execute\u001b[1;34m(self, driver_command, params)\u001b[0m\n\u001b[0;32m    339\u001b[0m     \u001b[38;5;28;01melif\u001b[39;00m \u001b[38;5;124m\"\u001b[39m\u001b[38;5;124msessionId\u001b[39m\u001b[38;5;124m\"\u001b[39m \u001b[38;5;129;01mnot\u001b[39;00m \u001b[38;5;129;01min\u001b[39;00m params:\n\u001b[0;32m    340\u001b[0m         params[\u001b[38;5;124m\"\u001b[39m\u001b[38;5;124msessionId\u001b[39m\u001b[38;5;124m\"\u001b[39m] \u001b[38;5;241m=\u001b[39m \u001b[38;5;28mself\u001b[39m\u001b[38;5;241m.\u001b[39msession_id\n\u001b[1;32m--> 342\u001b[0m response \u001b[38;5;241m=\u001b[39m \u001b[38;5;28mself\u001b[39m\u001b[38;5;241m.\u001b[39mcommand_executor\u001b[38;5;241m.\u001b[39mexecute(driver_command, params)\n\u001b[0;32m    343\u001b[0m \u001b[38;5;28;01mif\u001b[39;00m response:\n\u001b[0;32m    344\u001b[0m     \u001b[38;5;28mself\u001b[39m\u001b[38;5;241m.\u001b[39merror_handler\u001b[38;5;241m.\u001b[39mcheck_response(response)\n",
      "File \u001b[1;32m~\\anaconda3\\Lib\\site-packages\\selenium\\webdriver\\remote\\remote_connection.py:294\u001b[0m, in \u001b[0;36mRemoteConnection.execute\u001b[1;34m(self, command, params)\u001b[0m\n\u001b[0;32m    292\u001b[0m data \u001b[38;5;241m=\u001b[39m utils\u001b[38;5;241m.\u001b[39mdump_json(params)\n\u001b[0;32m    293\u001b[0m url \u001b[38;5;241m=\u001b[39m \u001b[38;5;124mf\u001b[39m\u001b[38;5;124m\"\u001b[39m\u001b[38;5;132;01m{\u001b[39;00m\u001b[38;5;28mself\u001b[39m\u001b[38;5;241m.\u001b[39m_url\u001b[38;5;132;01m}\u001b[39;00m\u001b[38;5;132;01m{\u001b[39;00mpath\u001b[38;5;132;01m}\u001b[39;00m\u001b[38;5;124m\"\u001b[39m\n\u001b[1;32m--> 294\u001b[0m \u001b[38;5;28;01mreturn\u001b[39;00m \u001b[38;5;28mself\u001b[39m\u001b[38;5;241m.\u001b[39m_request(command_info[\u001b[38;5;241m0\u001b[39m], url, body\u001b[38;5;241m=\u001b[39mdata)\n",
      "File \u001b[1;32m~\\anaconda3\\Lib\\site-packages\\selenium\\webdriver\\remote\\remote_connection.py:315\u001b[0m, in \u001b[0;36mRemoteConnection._request\u001b[1;34m(self, method, url, body)\u001b[0m\n\u001b[0;32m    312\u001b[0m     body \u001b[38;5;241m=\u001b[39m \u001b[38;5;28;01mNone\u001b[39;00m\n\u001b[0;32m    314\u001b[0m \u001b[38;5;28;01mif\u001b[39;00m \u001b[38;5;28mself\u001b[39m\u001b[38;5;241m.\u001b[39mkeep_alive:\n\u001b[1;32m--> 315\u001b[0m     response \u001b[38;5;241m=\u001b[39m \u001b[38;5;28mself\u001b[39m\u001b[38;5;241m.\u001b[39m_conn\u001b[38;5;241m.\u001b[39mrequest(method, url, body\u001b[38;5;241m=\u001b[39mbody, headers\u001b[38;5;241m=\u001b[39mheaders)\n\u001b[0;32m    316\u001b[0m     statuscode \u001b[38;5;241m=\u001b[39m response\u001b[38;5;241m.\u001b[39mstatus\n\u001b[0;32m    317\u001b[0m \u001b[38;5;28;01melse\u001b[39;00m:\n",
      "File \u001b[1;32m~\\anaconda3\\Lib\\site-packages\\urllib3\\request.py:81\u001b[0m, in \u001b[0;36mRequestMethods.request\u001b[1;34m(self, method, url, fields, headers, **urlopen_kw)\u001b[0m\n\u001b[0;32m     77\u001b[0m     \u001b[38;5;28;01mreturn\u001b[39;00m \u001b[38;5;28mself\u001b[39m\u001b[38;5;241m.\u001b[39mrequest_encode_url(\n\u001b[0;32m     78\u001b[0m         method, url, fields\u001b[38;5;241m=\u001b[39mfields, headers\u001b[38;5;241m=\u001b[39mheaders, \u001b[38;5;241m*\u001b[39m\u001b[38;5;241m*\u001b[39murlopen_kw\n\u001b[0;32m     79\u001b[0m     )\n\u001b[0;32m     80\u001b[0m \u001b[38;5;28;01melse\u001b[39;00m:\n\u001b[1;32m---> 81\u001b[0m     \u001b[38;5;28;01mreturn\u001b[39;00m \u001b[38;5;28mself\u001b[39m\u001b[38;5;241m.\u001b[39mrequest_encode_body(\n\u001b[0;32m     82\u001b[0m         method, url, fields\u001b[38;5;241m=\u001b[39mfields, headers\u001b[38;5;241m=\u001b[39mheaders, \u001b[38;5;241m*\u001b[39m\u001b[38;5;241m*\u001b[39murlopen_kw\n\u001b[0;32m     83\u001b[0m     )\n",
      "File \u001b[1;32m~\\anaconda3\\Lib\\site-packages\\urllib3\\request.py:173\u001b[0m, in \u001b[0;36mRequestMethods.request_encode_body\u001b[1;34m(self, method, url, fields, headers, encode_multipart, multipart_boundary, **urlopen_kw)\u001b[0m\n\u001b[0;32m    170\u001b[0m extra_kw[\u001b[38;5;124m\"\u001b[39m\u001b[38;5;124mheaders\u001b[39m\u001b[38;5;124m\"\u001b[39m]\u001b[38;5;241m.\u001b[39mupdate(headers)\n\u001b[0;32m    171\u001b[0m extra_kw\u001b[38;5;241m.\u001b[39mupdate(urlopen_kw)\n\u001b[1;32m--> 173\u001b[0m \u001b[38;5;28;01mreturn\u001b[39;00m \u001b[38;5;28mself\u001b[39m\u001b[38;5;241m.\u001b[39murlopen(method, url, \u001b[38;5;241m*\u001b[39m\u001b[38;5;241m*\u001b[39mextra_kw)\n",
      "File \u001b[1;32m~\\anaconda3\\Lib\\site-packages\\urllib3\\poolmanager.py:376\u001b[0m, in \u001b[0;36mPoolManager.urlopen\u001b[1;34m(self, method, url, redirect, **kw)\u001b[0m\n\u001b[0;32m    374\u001b[0m     response \u001b[38;5;241m=\u001b[39m conn\u001b[38;5;241m.\u001b[39murlopen(method, url, \u001b[38;5;241m*\u001b[39m\u001b[38;5;241m*\u001b[39mkw)\n\u001b[0;32m    375\u001b[0m \u001b[38;5;28;01melse\u001b[39;00m:\n\u001b[1;32m--> 376\u001b[0m     response \u001b[38;5;241m=\u001b[39m conn\u001b[38;5;241m.\u001b[39murlopen(method, u\u001b[38;5;241m.\u001b[39mrequest_uri, \u001b[38;5;241m*\u001b[39m\u001b[38;5;241m*\u001b[39mkw)\n\u001b[0;32m    378\u001b[0m redirect_location \u001b[38;5;241m=\u001b[39m redirect \u001b[38;5;129;01mand\u001b[39;00m response\u001b[38;5;241m.\u001b[39mget_redirect_location()\n\u001b[0;32m    379\u001b[0m \u001b[38;5;28;01mif\u001b[39;00m \u001b[38;5;129;01mnot\u001b[39;00m redirect_location:\n",
      "File \u001b[1;32m~\\anaconda3\\Lib\\site-packages\\urllib3\\connectionpool.py:715\u001b[0m, in \u001b[0;36mHTTPConnectionPool.urlopen\u001b[1;34m(self, method, url, body, headers, retries, redirect, assert_same_host, timeout, pool_timeout, release_conn, chunked, body_pos, **response_kw)\u001b[0m\n\u001b[0;32m    712\u001b[0m     \u001b[38;5;28mself\u001b[39m\u001b[38;5;241m.\u001b[39m_prepare_proxy(conn)\n\u001b[0;32m    714\u001b[0m \u001b[38;5;66;03m# Make the request on the httplib connection object.\u001b[39;00m\n\u001b[1;32m--> 715\u001b[0m httplib_response \u001b[38;5;241m=\u001b[39m \u001b[38;5;28mself\u001b[39m\u001b[38;5;241m.\u001b[39m_make_request(\n\u001b[0;32m    716\u001b[0m     conn,\n\u001b[0;32m    717\u001b[0m     method,\n\u001b[0;32m    718\u001b[0m     url,\n\u001b[0;32m    719\u001b[0m     timeout\u001b[38;5;241m=\u001b[39mtimeout_obj,\n\u001b[0;32m    720\u001b[0m     body\u001b[38;5;241m=\u001b[39mbody,\n\u001b[0;32m    721\u001b[0m     headers\u001b[38;5;241m=\u001b[39mheaders,\n\u001b[0;32m    722\u001b[0m     chunked\u001b[38;5;241m=\u001b[39mchunked,\n\u001b[0;32m    723\u001b[0m )\n\u001b[0;32m    725\u001b[0m \u001b[38;5;66;03m# If we're going to release the connection in ``finally:``, then\u001b[39;00m\n\u001b[0;32m    726\u001b[0m \u001b[38;5;66;03m# the response doesn't need to know about the connection. Otherwise\u001b[39;00m\n\u001b[0;32m    727\u001b[0m \u001b[38;5;66;03m# it will also try to release it and we'll have a double-release\u001b[39;00m\n\u001b[0;32m    728\u001b[0m \u001b[38;5;66;03m# mess.\u001b[39;00m\n\u001b[0;32m    729\u001b[0m response_conn \u001b[38;5;241m=\u001b[39m conn \u001b[38;5;28;01mif\u001b[39;00m \u001b[38;5;129;01mnot\u001b[39;00m release_conn \u001b[38;5;28;01melse\u001b[39;00m \u001b[38;5;28;01mNone\u001b[39;00m\n",
      "File \u001b[1;32m~\\anaconda3\\Lib\\site-packages\\urllib3\\connectionpool.py:467\u001b[0m, in \u001b[0;36mHTTPConnectionPool._make_request\u001b[1;34m(self, conn, method, url, timeout, chunked, **httplib_request_kw)\u001b[0m\n\u001b[0;32m    462\u001b[0m             httplib_response \u001b[38;5;241m=\u001b[39m conn\u001b[38;5;241m.\u001b[39mgetresponse()\n\u001b[0;32m    463\u001b[0m         \u001b[38;5;28;01mexcept\u001b[39;00m \u001b[38;5;167;01mBaseException\u001b[39;00m \u001b[38;5;28;01mas\u001b[39;00m e:\n\u001b[0;32m    464\u001b[0m             \u001b[38;5;66;03m# Remove the TypeError from the exception chain in\u001b[39;00m\n\u001b[0;32m    465\u001b[0m             \u001b[38;5;66;03m# Python 3 (including for exceptions like SystemExit).\u001b[39;00m\n\u001b[0;32m    466\u001b[0m             \u001b[38;5;66;03m# Otherwise it looks like a bug in the code.\u001b[39;00m\n\u001b[1;32m--> 467\u001b[0m             six\u001b[38;5;241m.\u001b[39mraise_from(e, \u001b[38;5;28;01mNone\u001b[39;00m)\n\u001b[0;32m    468\u001b[0m \u001b[38;5;28;01mexcept\u001b[39;00m (SocketTimeout, BaseSSLError, SocketError) \u001b[38;5;28;01mas\u001b[39;00m e:\n\u001b[0;32m    469\u001b[0m     \u001b[38;5;28mself\u001b[39m\u001b[38;5;241m.\u001b[39m_raise_timeout(err\u001b[38;5;241m=\u001b[39me, url\u001b[38;5;241m=\u001b[39murl, timeout_value\u001b[38;5;241m=\u001b[39mread_timeout)\n",
      "File \u001b[1;32m<string>:3\u001b[0m, in \u001b[0;36mraise_from\u001b[1;34m(value, from_value)\u001b[0m\n",
      "File \u001b[1;32m~\\anaconda3\\Lib\\site-packages\\urllib3\\connectionpool.py:462\u001b[0m, in \u001b[0;36mHTTPConnectionPool._make_request\u001b[1;34m(self, conn, method, url, timeout, chunked, **httplib_request_kw)\u001b[0m\n\u001b[0;32m    459\u001b[0m \u001b[38;5;28;01mexcept\u001b[39;00m \u001b[38;5;167;01mTypeError\u001b[39;00m:\n\u001b[0;32m    460\u001b[0m     \u001b[38;5;66;03m# Python 3\u001b[39;00m\n\u001b[0;32m    461\u001b[0m     \u001b[38;5;28;01mtry\u001b[39;00m:\n\u001b[1;32m--> 462\u001b[0m         httplib_response \u001b[38;5;241m=\u001b[39m conn\u001b[38;5;241m.\u001b[39mgetresponse()\n\u001b[0;32m    463\u001b[0m     \u001b[38;5;28;01mexcept\u001b[39;00m \u001b[38;5;167;01mBaseException\u001b[39;00m \u001b[38;5;28;01mas\u001b[39;00m e:\n\u001b[0;32m    464\u001b[0m         \u001b[38;5;66;03m# Remove the TypeError from the exception chain in\u001b[39;00m\n\u001b[0;32m    465\u001b[0m         \u001b[38;5;66;03m# Python 3 (including for exceptions like SystemExit).\u001b[39;00m\n\u001b[0;32m    466\u001b[0m         \u001b[38;5;66;03m# Otherwise it looks like a bug in the code.\u001b[39;00m\n\u001b[0;32m    467\u001b[0m         six\u001b[38;5;241m.\u001b[39mraise_from(e, \u001b[38;5;28;01mNone\u001b[39;00m)\n",
      "File \u001b[1;32m~\\anaconda3\\Lib\\http\\client.py:1390\u001b[0m, in \u001b[0;36mHTTPConnection.getresponse\u001b[1;34m(self)\u001b[0m\n\u001b[0;32m   1388\u001b[0m \u001b[38;5;28;01mtry\u001b[39;00m:\n\u001b[0;32m   1389\u001b[0m     \u001b[38;5;28;01mtry\u001b[39;00m:\n\u001b[1;32m-> 1390\u001b[0m         response\u001b[38;5;241m.\u001b[39mbegin()\n\u001b[0;32m   1391\u001b[0m     \u001b[38;5;28;01mexcept\u001b[39;00m \u001b[38;5;167;01mConnectionError\u001b[39;00m:\n\u001b[0;32m   1392\u001b[0m         \u001b[38;5;28mself\u001b[39m\u001b[38;5;241m.\u001b[39mclose()\n",
      "File \u001b[1;32m~\\anaconda3\\Lib\\http\\client.py:325\u001b[0m, in \u001b[0;36mHTTPResponse.begin\u001b[1;34m(self)\u001b[0m\n\u001b[0;32m    323\u001b[0m \u001b[38;5;66;03m# read until we get a non-100 response\u001b[39;00m\n\u001b[0;32m    324\u001b[0m \u001b[38;5;28;01mwhile\u001b[39;00m \u001b[38;5;28;01mTrue\u001b[39;00m:\n\u001b[1;32m--> 325\u001b[0m     version, status, reason \u001b[38;5;241m=\u001b[39m \u001b[38;5;28mself\u001b[39m\u001b[38;5;241m.\u001b[39m_read_status()\n\u001b[0;32m    326\u001b[0m     \u001b[38;5;28;01mif\u001b[39;00m status \u001b[38;5;241m!=\u001b[39m CONTINUE:\n\u001b[0;32m    327\u001b[0m         \u001b[38;5;28;01mbreak\u001b[39;00m\n",
      "File \u001b[1;32m~\\anaconda3\\Lib\\http\\client.py:286\u001b[0m, in \u001b[0;36mHTTPResponse._read_status\u001b[1;34m(self)\u001b[0m\n\u001b[0;32m    285\u001b[0m \u001b[38;5;28;01mdef\u001b[39;00m \u001b[38;5;21m_read_status\u001b[39m(\u001b[38;5;28mself\u001b[39m):\n\u001b[1;32m--> 286\u001b[0m     line \u001b[38;5;241m=\u001b[39m \u001b[38;5;28mstr\u001b[39m(\u001b[38;5;28mself\u001b[39m\u001b[38;5;241m.\u001b[39mfp\u001b[38;5;241m.\u001b[39mreadline(_MAXLINE \u001b[38;5;241m+\u001b[39m \u001b[38;5;241m1\u001b[39m), \u001b[38;5;124m\"\u001b[39m\u001b[38;5;124miso-8859-1\u001b[39m\u001b[38;5;124m\"\u001b[39m)\n\u001b[0;32m    287\u001b[0m     \u001b[38;5;28;01mif\u001b[39;00m \u001b[38;5;28mlen\u001b[39m(line) \u001b[38;5;241m>\u001b[39m _MAXLINE:\n\u001b[0;32m    288\u001b[0m         \u001b[38;5;28;01mraise\u001b[39;00m LineTooLong(\u001b[38;5;124m\"\u001b[39m\u001b[38;5;124mstatus line\u001b[39m\u001b[38;5;124m\"\u001b[39m)\n",
      "File \u001b[1;32m~\\anaconda3\\Lib\\socket.py:706\u001b[0m, in \u001b[0;36mSocketIO.readinto\u001b[1;34m(self, b)\u001b[0m\n\u001b[0;32m    704\u001b[0m \u001b[38;5;28;01mwhile\u001b[39;00m \u001b[38;5;28;01mTrue\u001b[39;00m:\n\u001b[0;32m    705\u001b[0m     \u001b[38;5;28;01mtry\u001b[39;00m:\n\u001b[1;32m--> 706\u001b[0m         \u001b[38;5;28;01mreturn\u001b[39;00m \u001b[38;5;28mself\u001b[39m\u001b[38;5;241m.\u001b[39m_sock\u001b[38;5;241m.\u001b[39mrecv_into(b)\n\u001b[0;32m    707\u001b[0m     \u001b[38;5;28;01mexcept\u001b[39;00m timeout:\n\u001b[0;32m    708\u001b[0m         \u001b[38;5;28mself\u001b[39m\u001b[38;5;241m.\u001b[39m_timeout_occurred \u001b[38;5;241m=\u001b[39m \u001b[38;5;28;01mTrue\u001b[39;00m\n",
      "\u001b[1;31mKeyboardInterrupt\u001b[0m: "
     ]
    }
   ],
   "source": [
    "liste_nom_hotel=[]\n",
    "liste_commentaire=[]\n",
    "liste_title=[]\n",
    "liste_date_publication=[]\n",
    "liste_pays_ut=[]\n",
    "liste_type_logement=[]\n",
    "liste_duree_passe=[]\n",
    "liste_situation=[]\n",
    "\n",
    "for link in list_all_parts[0] :\n",
    "    driver.get(link)\n",
    "    time.sleep(3)\n",
    "    html=driver.page_source\n",
    "    soup=BeautifulSoup(html,'lxml')\n",
    "    try :\n",
    "        comments_button = driver.find_element(By.XPATH, '/html/body/div[4]/div/div[4]/div[1]/div[1]/div[7]/div/div[3]/div/div[2]/div/button')\n",
    "        nom_hotel=soup.find('h2',{'class':'aceeb7ecbc pp-header__title'}).text.strip()\n",
    "        comments_button.click()\n",
    "    except NoSuchElementException:\n",
    "            \n",
    "        print(f'no comments for this hotel : {link}')\n",
    "        continue\n",
    "    time.sleep(2)\n",
    "    newest_comments_button=driver.find_element(By.XPATH , '/html/body/div[4]/div/div[4]/div[1]/div[1]/div[1]/div[1]/div[4]/div/div[1]/div[2]/div/div[1]/div[2]/div/div[2]/div[6]/div/div/div/select/option[2]')\n",
    "    newest_comments_button.click()\n",
    "    time.sleep(2)\n",
    "    #choisir le nombre de pages\n",
    "    for i in range(2) :\n",
    "        \n",
    "        \n",
    "        html=driver.page_source\n",
    "        soup=BeautifulSoup(html,'lxml')\n",
    "        \n",
    "        balise_tout_commentaire=soup.find_all('div',{'class':'d8050114ed','data-testid':'review-card'})\n",
    "        for one_comment in balise_tout_commentaire :\n",
    "            comment=one_comment.find('div',{'class':'eb2c6a4f4b c99bd84b8f'}).text.strip()\n",
    "            title=one_comment.find('div',{'class':'fa4a3a8221 da5f82352e'})\n",
    "            if title :\n",
    "                title=title.text.strip()\n",
    "            else :\n",
    "                title='unknown'\n",
    "            date_publication=one_comment.find('span',{'data-testid':'review-date'}).text.strip().split(' ')\n",
    "            date_publication=\"\".join(date_publication[3:])\n",
    "            pays_ut=one_comment.find('span',{'class':'d8dbbfac8d de52276dac'}).text.strip()\n",
    "            type_logement=one_comment.find('span',{'data-testid':'review-room-name'}).text.strip()\n",
    "            duree_passe=one_comment.find('span',{'data-testid':'review-num-nights'}).text.strip()\n",
    "            situation=one_comment.find('span',{'data-testid':'review-traveler-type'}).text.strip()\n",
    "            print(situation)\n",
    "            #print(type_logement)\n",
    "            #print(duree_passe)\n",
    "            #print(pays_ut)\n",
    "            #print(date_publication)\n",
    "            #print(comment)\n",
    "            #print(title)\n",
    "            liste_nom_hotel.append(nom_hotel)\n",
    "            liste_title.append(title)\n",
    "            liste_commentaire.append(comment)\n",
    "            liste_date_publication.append(date_publication)\n",
    "            liste_pays_ut.append(pays_ut)\n",
    "            liste_type_logement.append(type_logement)\n",
    "            liste_duree_passe.append(duree_passe)\n",
    "            liste_situation.append(situation)\n",
    "        time.sleep(1)\n",
    "        try :\n",
    "            go_forward=driver.find_element(By.XPATH , '/html/body/div[4]/div/div[4]/div[1]/div[1]/div[1]/div[1]/div[4]/div/div[1]/div[2]/div/div[1]/div[2]/div/div[2]/div[7]/div/div[2]/div[1]/div/div/div[3]/button')\n",
    "            go_forward.click()\n",
    "        except NoSuchElementException:\n",
    "            print(\"no buttons left\")\n",
    "            break\n",
    "        time.sleep(2)"
   ]
  },
  {
   "cell_type": "code",
   "execution_count": 57,
   "id": "82dd7eda",
   "metadata": {},
   "outputs": [
    {
     "data": {
      "text/plain": [
       "'https://www.booking.com/hotel/th/boonrumpa-condotel.fr.html?aid=304142&label=gen173nr-1FCAQoggJCDnNlYXJjaF9iYW5na29rSA1YBGjiAYgBAZgBDbgBF8gBDNgBAegBAfgBA4gCAagCA7gCkNyjswbAAgHSAiRkZWM3YThkYy00NDFmLTRjYzktOTRiMy00MmQwYmUyNzkwY2HYAgXgAgE&ucfs=1&arphpl=1&group_adults=2&req_adults=2&no_rooms=1&group_children=0&req_children=0&hpos=10&hapos=10&sr_order=popularity&nflt=ht_id%3D204&srpvid=3c7704888c40033b&srepoch=1718152797&from=searchresults'"
      ]
     },
     "execution_count": 57,
     "metadata": {},
     "output_type": "execute_result"
    }
   ],
   "source": [
    "link"
   ]
  },
  {
   "cell_type": "code",
   "execution_count": 58,
   "id": "554aa52c",
   "metadata": {},
   "outputs": [
    {
     "data": {
      "text/plain": [
       "9"
      ]
     },
     "execution_count": 58,
     "metadata": {},
     "output_type": "execute_result"
    }
   ],
   "source": [
    "list_all_parts[0].index(link)"
   ]
  },
  {
   "cell_type": "code",
   "execution_count": 59,
   "id": "ca8dc30f",
   "metadata": {},
   "outputs": [
    {
     "data": {
      "text/plain": [
       "'Location perfect for my needs. Close to BTS.'"
      ]
     },
     "execution_count": 59,
     "metadata": {},
     "output_type": "execute_result"
    }
   ],
   "source": [
    "comment"
   ]
  },
  {
   "cell_type": "code",
   "execution_count": 60,
   "id": "40d1334f",
   "metadata": {},
   "outputs": [
    {
     "name": "stdout",
     "output_type": "stream",
     "text": [
      "118\n",
      "118\n",
      "118\n",
      "118\n",
      "118\n",
      "118\n",
      "118\n",
      "118\n"
     ]
    }
   ],
   "source": [
    "print(len(liste_nom_hotel))\n",
    "print(len(liste_title))\n",
    "print(len(liste_commentaire))\n",
    "print(len(liste_date_publication))\n",
    "print(len(liste_pays_ut))\n",
    "print(len(liste_type_logement))\n",
    "print(len(liste_duree_passe))\n",
    "print(len(liste_situation))"
   ]
  },
  {
   "cell_type": "code",
   "execution_count": 62,
   "id": "7e53b186",
   "metadata": {},
   "outputs": [],
   "source": [
    "commentaire_data={'nom_hotel':liste_nom_hotel,'titre_commentaire':liste_title,\n",
    "                  'commentaire':liste_commentaire,'date_publication':liste_date_publication,'pays_utilisateur':liste_pays_ut,\n",
    "                  'type_logement_utilisateur':liste_type_logement,'duree_passé' :liste_duree_passe,'situation_utilisateur':liste_situation\n",
    "                 }\n",
    "\n",
    "\n",
    "dataset_commentaire = pd.DataFrame(commentaire_data)\n",
    "i=1\n",
    "dataset_commentaire.to_csv(f\"dataset_commentaire{i}.csv\", index=False)\n",
    "\n",
    "\n",
    "\n",
    "\n"
   ]
  },
  {
   "cell_type": "markdown",
   "id": "c0973293",
   "metadata": {},
   "source": [
    "# extraction des images"
   ]
  },
  {
   "cell_type": "code",
   "execution_count": 70,
   "id": "3624643b",
   "metadata": {},
   "outputs": [
    {
     "name": "stdout",
     "output_type": "stream",
     "text": [
      "https://cf.bstatic.com/xdata/images/hotel/max1024x768/178284857.jpg?k=e29fe0529a38a37f7e6908cdcf9dd3ff7fdd283445380ed4069bc8a675fd9f9c&o=&hp=1\n",
      "https://cf.bstatic.com/xdata/images/hotel/max1024x768/178510804.jpg?k=78859253646d08ed86430411f32b1fcea4752e8222ab3aabee1a0f7825b90f2d&o=&hp=1\n",
      "https://cf.bstatic.com/xdata/images/hotel/max1024x768/84616671.jpg?k=1de9ba178609a4dac94ea69e10143d34114be40527bac001188e897190e7d523&o=&hp=1\n",
      "https://cf.bstatic.com/xdata/images/hotel/max1024x768/276315743.jpg?k=6398e3fbef9edb51c53dec72aa0a90d1c5079ec62967bbf4048ba784a02f30cb&o=&hp=1\n",
      "https://cf.bstatic.com/xdata/images/hotel/max1024x768/178508351.jpg?k=92df418676a7ab6ff1bfb9bff9853a5ef7acb15852bb132f22e307401a008b15&o=&hp=1\n",
      "https://cf.bstatic.com/xdata/images/hotel/max1024x768/276315763.jpg?k=85d3ee5deec9eebb3dc8da1c2c3409bda97c47acb87f4b88e7fea9f43a685813&o=&hp=1\n",
      "https://cf.bstatic.com/xdata/images/hotel/max1024x768/276315750.jpg?k=290d1bd93c4aa699372cac486b44be79ffc61ea6995cefee57338ac6196b5093&o=&hp=1\n",
      "https://cf.bstatic.com/xdata/images/hotel/max1024x768/178510748.jpg?k=4e29deac426788e7c857b7803f3a3fdc0de78ff2809d5c14ab9df4073e65ad48&o=&hp=1\n",
      "https://cf.bstatic.com/xdata/images/hotel/max1024x768/64399680.jpg?k=534394b77bb40c934c2da2c1feeee57df6b45b4bcad14d4ca44a8ac7f27f448d&o=&hp=1\n",
      "https://cf.bstatic.com/xdata/images/hotel/max1024x768/178508413.jpg?k=9cf2a88c747d4147e68c2f25a6797a98362310d2a22d83e07cf2e06dd5256687&o=&hp=1\n",
      "https://cf.bstatic.com/xdata/images/hotel/max1024x768/64399461.jpg?k=88c9661e6cbacf2a279a091f7ad65086af02194f1065b486f6abad8d852d0f3b&o=&hp=1\n",
      "https://cf.bstatic.com/xdata/images/hotel/max1024x768/276320239.jpg?k=cda826afa2512603aa865abe7cebd24ea58d5ad40436212a854877d870bddaff&o=&hp=1\n",
      "https://cf.bstatic.com/xdata/images/hotel/max1024x768/276320243.jpg?k=5754ea9952d815e48cec76f666ad41dbcb1b606a60e6c6ce7e490fbc0a18cc93&o=&hp=1\n",
      "https://cf.bstatic.com/xdata/images/hotel/max1024x768/276317558.jpg?k=3e1e7a43723c8d9bdb1a838eee397ccc47daa537dfe57226147e0be0c5d853d9&o=&hp=1\n",
      "https://cf.bstatic.com/xdata/images/hotel/max1024x768/276315740.jpg?k=8ab6e9200da3e4b5a5a14c2ed3048efeb65cc21f624cff5c1a0cb0ef60684411&o=&hp=1\n",
      "https://cf.bstatic.com/xdata/images/hotel/max1024x768/276315756.jpg?k=7eb78d5267eaa22cf237a733a01166fe3de8abc39ce23a5bd87646a1ca61a898&o=&hp=1\n",
      "https://cf.bstatic.com/xdata/images/hotel/max1024x768/178510789.jpg?k=97fd02abba49358f80cafaf224c82e6a78fe5e60854d1c081e5f5fb731e3647d&o=&hp=1\n",
      "https://cf.bstatic.com/xdata/images/hotel/max1024x768/178508324.jpg?k=de408ae0e1b4fe85fa8f5cc8f976d37cddd69322e426e29954a3f72b976aae79&o=&hp=1\n",
      "https://cf.bstatic.com/xdata/images/hotel/max1024x768/178508342.jpg?k=ceef0a612037a4997e6b2cf257ca1783322df11e1e0b2cc4f6658fbc101ed30d&o=&hp=1\n",
      "https://cf.bstatic.com/xdata/images/hotel/max1024x768/178510768.jpg?k=da7fb26c566fe6b8f0c2b2feae23bb8569e950aa247b3607f0d36ea438e061b8&o=&hp=1\n",
      "https://cf.bstatic.com/xdata/images/hotel/max1024x768/178510729.jpg?k=7449bd75c215058f7c2940576cf82285185f6ea54732b4366a9feb65ac188ed3&o=&hp=1\n",
      "https://cf.bstatic.com/xdata/images/hotel/max1024x768/178508361.jpg?k=25a6c833630b88a3898d12079f4e2385689f75d2f40b8aa77e9b9aa3804d821e&o=&hp=1\n",
      "https://cf.bstatic.com/xdata/images/hotel/max1024x768/178508385.jpg?k=8e17f173b014e94456159be292aca121467415aca59ad0b1ae799044fde9ddb5&o=&hp=1\n",
      "https://cf.bstatic.com/xdata/images/hotel/max1024x768/64399458.jpg?k=7263a67d8a264ca632e371cd668bfee21f40a1386fb9ddb946af939d5606cff7&o=&hp=1\n",
      "https://cf.bstatic.com/xdata/images/hotel/max1024x768/178508407.jpg?k=939732a96b53ba8434336af0fce35ee7e1f678ff82ae0cd46c9426a09c972615&o=&hp=1\n",
      "https://cf.bstatic.com/xdata/images/hotel/max1024x768/178510722.jpg?k=5f1dfb6f0bfae27821fdd7052b160cd52c2a6ef4a1c18221ac5c9cda347747d8&o=&hp=1\n",
      "https://cf.bstatic.com/xdata/images/hotel/max1024x768/178510736.jpg?k=9bacc963962d33e8c1ce76993fdae41a3243e955b54d2ae4bbc15abd0af2e16e&o=&hp=1\n",
      "https://cf.bstatic.com/xdata/images/hotel/max1024x768/178508398.jpg?k=6c79c5a9890a7c26c78efc468f5e4712123a62505b46bb7ad8cd15488049a412&o=&hp=1\n",
      "https://cf.bstatic.com/xdata/images/hotel/max1024x768/178508428.jpg?k=ebcca09e857890ce74e3ec3323932e2c7bc59c0631683958289905276a5f4add&o=&hp=1\n",
      "https://cf.bstatic.com/xdata/images/hotel/max1024x768/64400095.jpg?k=9be0deed78fd90ef2393c96a676f0f6adb5f337dd49245a9122e6a448b6a4f90&o=&hp=1\n",
      "https://cf.bstatic.com/xdata/images/hotel/max1024x768/178510755.jpg?k=ce073a27292840dbf1723fb2cd3391fe40299cd19db52c2925ffebea3ed41eb5&o=&hp=1\n",
      "https://cf.bstatic.com/xdata/images/hotel/max1024x768/178510762.jpg?k=7e21982439ae0e60e9c03a14f202950d15e52479365078728a83ddce215647b1&o=&hp=1\n",
      "https://cf.bstatic.com/xdata/images/hotel/max1024x768/178510780.jpg?k=9f2fe8dc89d9da10f7ed6d6568992334e4a4ed45a5b9826ac07e009ce18c388e&o=&hp=1\n",
      "https://cf.bstatic.com/xdata/images/hotel/max1024x768/178508332.jpg?k=6964095dd05af7de98404b3a091b5be0558689993097da980a168a6de7a8f214&o=&hp=1\n",
      "https://cf.bstatic.com/xdata/images/hotel/max1024x768/178508338.jpg?k=f779ab04e13c18bac8e5fc1d74a569f7aa56a0154bc8d351c9e01ecde5225351&o=&hp=1\n",
      "https://cf.bstatic.com/xdata/images/hotel/max1024x768/178508346.jpg?k=27cd376c9dd3f974c2503c3b8ceb5fff031d6cc4641c2664d986e3a25fe4eb5c&o=&hp=1\n",
      "https://cf.bstatic.com/xdata/images/hotel/max1024x768/178508370.jpg?k=3d2b7dd5524d81e611acd7128fd4d488758aeb49d474a9171ae3ed5c5f70af17&o=&hp=1\n",
      "https://cf.bstatic.com/xdata/images/hotel/max1024x768/178508377.jpg?k=043f2035973373f9484bf074b587388c3640d68548b292034e625f59a14999fe&o=&hp=1\n",
      "https://cf.bstatic.com/xdata/images/hotel/max1024x768/178508390.jpg?k=ac63950759046d819a56f6c5922c9a22fc939b4e6c1aaa7e7c03dc6a560f6046&o=&hp=1\n",
      "https://cf.bstatic.com/xdata/images/hotel/max1024x768/178510704.jpg?k=a8d4e3521e17f87f5df6202097124b5bee070d35235783c1039ed7ce96ee7400&o=&hp=1\n",
      "https://cf.bstatic.com/xdata/images/hotel/max1024x768/178510697.jpg?k=3748bf9207ab775165ce6c90d988c71caedec1ebf86c4ef3f2a1c483409990c5&o=&hp=1\n",
      "https://cf.bstatic.com/xdata/images/hotel/max1024x768/178284874.jpg?k=4f84d9a5d413e9d469c2e72439ac9a8ef953d312719d480028676b077d2f73fd&o=&hp=1\n",
      "https://cf.bstatic.com/xdata/images/hotel/max1024x768/178284867.jpg?k=5dfd810b1090ba74574cf60f8c2113a2d48aab39cf983e79059589cbd24a43ae&o=&hp=1\n",
      "https://cf.bstatic.com/xdata/images/hotel/max1024x768/178284860.jpg?k=12e67189ea67fd1299b49cd50494bf872337339a77c04a631eb9c863d0953c50&o=&hp=1\n",
      "https://cf.bstatic.com/xdata/images/hotel/max1024x768/178284861.jpg?k=476f667e69a7bc8483f257750d78cadef4cea0af3784ccca343fd43a6aed41dc&o=&hp=1\n",
      "https://cf.bstatic.com/xdata/images/hotel/max1024x768/178284857.jpg?k=e29fe0529a38a37f7e6908cdcf9dd3ff7fdd283445380ed4069bc8a675fd9f9c&o=&hp=1\n",
      "https://cf.bstatic.com/xdata/images/hotel/max1024x768/238105843.jpg?k=fea1a4600f19c30d21a86a66a40a84c36f7d0f5e5876995231e13e732948223e&o=&hp=1\n",
      "https://cf.bstatic.com/xdata/images/hotel/max1024x768/278112372.jpg?k=81b4c3dd37a3788f6370a470371f436ebde90c8e0655a4f262db44d4ecf0899b&o=&hp=1\n",
      "https://cf.bstatic.com/xdata/images/hotel/max1024x768/241336848.jpg?k=bb8b2b0eaa64945a512392cfa0b567236fc28ea89e13732f326de09a6ec5e931&o=&hp=1\n",
      "https://cf.bstatic.com/xdata/images/hotel/max1024x768/278111293.jpg?k=de083baaef07a8762cf73c573643ac319e0a9dc5d7a2f007b40f057325136c79&o=&hp=1\n",
      "https://cf.bstatic.com/xdata/images/hotel/max1024x768/238106037.jpg?k=4456e7c497cf9bc5603a771b4e0fd1c4c605a3221ff371ec92df5c654e8199b5&o=&hp=1\n",
      "https://cf.bstatic.com/xdata/images/hotel/max1024x768/278112343.jpg?k=62130953104ae9867646b74ee5e031428259261fe04e3f690a915642d0ba6315&o=&hp=1\n",
      "https://cf.bstatic.com/xdata/images/hotel/max1024x768/278112349.jpg?k=2b7bb32ca026d8ae5e12a8c2ba46a19bd538f20bc0a254f360d8d121977f8ee4&o=&hp=1\n",
      "https://cf.bstatic.com/xdata/images/hotel/max1024x768/278112359.jpg?k=be3bf444f3585c583400d709f5adeb70d185e185014e3340ecabcb49d193c03f&o=&hp=1\n",
      "https://cf.bstatic.com/xdata/images/hotel/max1024x768/278112369.jpg?k=5a665a2fb41e3c77b2011ebc3230a9bba5c1f8073213933f1b3839676ce2b494&o=&hp=1\n",
      "https://cf.bstatic.com/xdata/images/hotel/max1024x768/278112371.jpg?k=0ab7a45f6445c3fdd6392b239dfa5a740939282247ab5e6bc122d3f0354ccdd5&o=&hp=1\n",
      "https://cf.bstatic.com/xdata/images/hotel/max1024x768/278112380.jpg?k=cf67579e5ef05815bf3bd410b31298fde0e2347a74830f46be686bee56bd6fff&o=&hp=1\n",
      "https://cf.bstatic.com/xdata/images/hotel/max1024x768/238105399.jpg?k=f47424ac17908e50edd6e9d5a80b7474edbd768e1130f228bd00a6bd0645805a&o=&hp=1\n",
      "https://cf.bstatic.com/xdata/images/hotel/max1024x768/278111335.jpg?k=42c94bcdecd1fec1e127f54f6fd487610a6dead8904d67ee71ff130524a95fc2&o=&hp=1\n",
      "https://cf.bstatic.com/xdata/images/hotel/max1024x768/278111342.jpg?k=8b2c81bb460bc00408da7026eb4a57c37e3c640af28274e6ab317d7561c37b81&o=&hp=1\n",
      "https://cf.bstatic.com/xdata/images/hotel/max1024x768/278111347.jpg?k=7e80153599102cf0255b52784fa0fb6b19e2b4be3c1334a598fda610ff10d656&o=&hp=1\n",
      "https://cf.bstatic.com/xdata/images/hotel/max1024x768/238105460.jpg?k=8f3a9271f509d6039150c92438ae83e99b3e078e20aba4bf9062ba02e8c7aa7f&o=&hp=1\n",
      "https://cf.bstatic.com/xdata/images/hotel/max1024x768/278111351.jpg?k=a28ee9433ad8066fd5a46d2b4ddfd8ba71a329390cf8109082bb5a084095c830&o=&hp=1\n",
      "https://cf.bstatic.com/xdata/images/hotel/max1024x768/278111357.jpg?k=f21a605db0251993a4cee8e612c0677ce235912ae9663debab90ec7cffbb78b2&o=&hp=1\n",
      "https://cf.bstatic.com/xdata/images/hotel/max1024x768/278111368.jpg?k=5a7720a4c315859ddfd6ef13b4bad79d233c15f551d2c3471b51609ae8a6872e&o=&hp=1\n",
      "https://cf.bstatic.com/xdata/images/hotel/max1024x768/241337376.jpg?k=6ba66e053bf46efecafb10f856d31ad2d9b679f9faf8e227f20669571abf1d48&o=&hp=1\n",
      "https://cf.bstatic.com/xdata/images/hotel/max1024x768/278111252.jpg?k=4694ba302b3ece1c3b271d07f1a715bdc5fb368c9b96b4e5c0a0c0b3aeddf3dc&o=&hp=1\n",
      "https://cf.bstatic.com/xdata/images/hotel/max1024x768/278111254.jpg?k=774ff92915a4485f2baed990a7a27ec433e28a37494b6d264013f68feec6cdd9&o=&hp=1\n"
     ]
    },
    {
     "ename": "KeyboardInterrupt",
     "evalue": "",
     "output_type": "error",
     "traceback": [
      "\u001b[1;31m---------------------------------------------------------------------------\u001b[0m",
      "\u001b[1;31mKeyboardInterrupt\u001b[0m                         Traceback (most recent call last)",
      "Cell \u001b[1;32mIn[70], line 29\u001b[0m\n\u001b[0;32m     27\u001b[0m \u001b[38;5;66;03m# Télécharger l'image\u001b[39;00m\n\u001b[0;32m     28\u001b[0m \u001b[38;5;28;01mtry\u001b[39;00m:\n\u001b[1;32m---> 29\u001b[0m     image_response \u001b[38;5;241m=\u001b[39m requests\u001b[38;5;241m.\u001b[39mget(image_link, stream\u001b[38;5;241m=\u001b[39m\u001b[38;5;28;01mTrue\u001b[39;00m)\n\u001b[0;32m     30\u001b[0m     \u001b[38;5;28;01mif\u001b[39;00m image_response\u001b[38;5;241m.\u001b[39mstatus_code \u001b[38;5;241m==\u001b[39m \u001b[38;5;241m200\u001b[39m:\n\u001b[0;32m     31\u001b[0m         image_path \u001b[38;5;241m=\u001b[39m os\u001b[38;5;241m.\u001b[39mpath\u001b[38;5;241m.\u001b[39mjoin(\u001b[38;5;124mr\u001b[39m\u001b[38;5;124m'\u001b[39m\u001b[38;5;124mC:\u001b[39m\u001b[38;5;124m\\\u001b[39m\u001b[38;5;124mUsers\u001b[39m\u001b[38;5;124m\\\u001b[39m\u001b[38;5;124mazizm\u001b[39m\u001b[38;5;124m\\\u001b[39m\u001b[38;5;124mOneDrive\u001b[39m\u001b[38;5;124m\\\u001b[39m\u001b[38;5;124mBureau\u001b[39m\u001b[38;5;124m\\\u001b[39m\u001b[38;5;124mimages_scraping\u001b[39m\u001b[38;5;124m'\u001b[39m, \u001b[38;5;124mf\u001b[39m\u001b[38;5;124m'\u001b[39m\u001b[38;5;124mimage_\u001b[39m\u001b[38;5;132;01m{\u001b[39;00mnom_hotel\u001b[38;5;132;01m}\u001b[39;00m\u001b[38;5;124m_\u001b[39m\u001b[38;5;132;01m{\u001b[39;00mi\u001b[38;5;241m+\u001b[39m\u001b[38;5;241m1\u001b[39m\u001b[38;5;132;01m}\u001b[39;00m\u001b[38;5;124m.jpg\u001b[39m\u001b[38;5;124m'\u001b[39m)\n",
      "File \u001b[1;32m~\\anaconda3\\Lib\\site-packages\\requests\\api.py:73\u001b[0m, in \u001b[0;36mget\u001b[1;34m(url, params, **kwargs)\u001b[0m\n\u001b[0;32m     62\u001b[0m \u001b[38;5;28;01mdef\u001b[39;00m \u001b[38;5;21mget\u001b[39m(url, params\u001b[38;5;241m=\u001b[39m\u001b[38;5;28;01mNone\u001b[39;00m, \u001b[38;5;241m*\u001b[39m\u001b[38;5;241m*\u001b[39mkwargs):\n\u001b[0;32m     63\u001b[0m \u001b[38;5;250m    \u001b[39m\u001b[38;5;124mr\u001b[39m\u001b[38;5;124;03m\"\"\"Sends a GET request.\u001b[39;00m\n\u001b[0;32m     64\u001b[0m \n\u001b[0;32m     65\u001b[0m \u001b[38;5;124;03m    :param url: URL for the new :class:`Request` object.\u001b[39;00m\n\u001b[1;32m   (...)\u001b[0m\n\u001b[0;32m     70\u001b[0m \u001b[38;5;124;03m    :rtype: requests.Response\u001b[39;00m\n\u001b[0;32m     71\u001b[0m \u001b[38;5;124;03m    \"\"\"\u001b[39;00m\n\u001b[1;32m---> 73\u001b[0m     \u001b[38;5;28;01mreturn\u001b[39;00m request(\u001b[38;5;124m\"\u001b[39m\u001b[38;5;124mget\u001b[39m\u001b[38;5;124m\"\u001b[39m, url, params\u001b[38;5;241m=\u001b[39mparams, \u001b[38;5;241m*\u001b[39m\u001b[38;5;241m*\u001b[39mkwargs)\n",
      "File \u001b[1;32m~\\anaconda3\\Lib\\site-packages\\requests\\api.py:59\u001b[0m, in \u001b[0;36mrequest\u001b[1;34m(method, url, **kwargs)\u001b[0m\n\u001b[0;32m     55\u001b[0m \u001b[38;5;66;03m# By using the 'with' statement we are sure the session is closed, thus we\u001b[39;00m\n\u001b[0;32m     56\u001b[0m \u001b[38;5;66;03m# avoid leaving sockets open which can trigger a ResourceWarning in some\u001b[39;00m\n\u001b[0;32m     57\u001b[0m \u001b[38;5;66;03m# cases, and look like a memory leak in others.\u001b[39;00m\n\u001b[0;32m     58\u001b[0m \u001b[38;5;28;01mwith\u001b[39;00m sessions\u001b[38;5;241m.\u001b[39mSession() \u001b[38;5;28;01mas\u001b[39;00m session:\n\u001b[1;32m---> 59\u001b[0m     \u001b[38;5;28;01mreturn\u001b[39;00m session\u001b[38;5;241m.\u001b[39mrequest(method\u001b[38;5;241m=\u001b[39mmethod, url\u001b[38;5;241m=\u001b[39murl, \u001b[38;5;241m*\u001b[39m\u001b[38;5;241m*\u001b[39mkwargs)\n",
      "File \u001b[1;32m~\\anaconda3\\Lib\\site-packages\\requests\\sessions.py:589\u001b[0m, in \u001b[0;36mSession.request\u001b[1;34m(self, method, url, params, data, headers, cookies, files, auth, timeout, allow_redirects, proxies, hooks, stream, verify, cert, json)\u001b[0m\n\u001b[0;32m    584\u001b[0m send_kwargs \u001b[38;5;241m=\u001b[39m {\n\u001b[0;32m    585\u001b[0m     \u001b[38;5;124m\"\u001b[39m\u001b[38;5;124mtimeout\u001b[39m\u001b[38;5;124m\"\u001b[39m: timeout,\n\u001b[0;32m    586\u001b[0m     \u001b[38;5;124m\"\u001b[39m\u001b[38;5;124mallow_redirects\u001b[39m\u001b[38;5;124m\"\u001b[39m: allow_redirects,\n\u001b[0;32m    587\u001b[0m }\n\u001b[0;32m    588\u001b[0m send_kwargs\u001b[38;5;241m.\u001b[39mupdate(settings)\n\u001b[1;32m--> 589\u001b[0m resp \u001b[38;5;241m=\u001b[39m \u001b[38;5;28mself\u001b[39m\u001b[38;5;241m.\u001b[39msend(prep, \u001b[38;5;241m*\u001b[39m\u001b[38;5;241m*\u001b[39msend_kwargs)\n\u001b[0;32m    591\u001b[0m \u001b[38;5;28;01mreturn\u001b[39;00m resp\n",
      "File \u001b[1;32m~\\anaconda3\\Lib\\site-packages\\requests\\sessions.py:703\u001b[0m, in \u001b[0;36mSession.send\u001b[1;34m(self, request, **kwargs)\u001b[0m\n\u001b[0;32m    700\u001b[0m start \u001b[38;5;241m=\u001b[39m preferred_clock()\n\u001b[0;32m    702\u001b[0m \u001b[38;5;66;03m# Send the request\u001b[39;00m\n\u001b[1;32m--> 703\u001b[0m r \u001b[38;5;241m=\u001b[39m adapter\u001b[38;5;241m.\u001b[39msend(request, \u001b[38;5;241m*\u001b[39m\u001b[38;5;241m*\u001b[39mkwargs)\n\u001b[0;32m    705\u001b[0m \u001b[38;5;66;03m# Total elapsed time of the request (approximately)\u001b[39;00m\n\u001b[0;32m    706\u001b[0m elapsed \u001b[38;5;241m=\u001b[39m preferred_clock() \u001b[38;5;241m-\u001b[39m start\n",
      "File \u001b[1;32m~\\anaconda3\\Lib\\site-packages\\requests\\adapters.py:486\u001b[0m, in \u001b[0;36mHTTPAdapter.send\u001b[1;34m(self, request, stream, timeout, verify, cert, proxies)\u001b[0m\n\u001b[0;32m    483\u001b[0m     timeout \u001b[38;5;241m=\u001b[39m TimeoutSauce(connect\u001b[38;5;241m=\u001b[39mtimeout, read\u001b[38;5;241m=\u001b[39mtimeout)\n\u001b[0;32m    485\u001b[0m \u001b[38;5;28;01mtry\u001b[39;00m:\n\u001b[1;32m--> 486\u001b[0m     resp \u001b[38;5;241m=\u001b[39m conn\u001b[38;5;241m.\u001b[39murlopen(\n\u001b[0;32m    487\u001b[0m         method\u001b[38;5;241m=\u001b[39mrequest\u001b[38;5;241m.\u001b[39mmethod,\n\u001b[0;32m    488\u001b[0m         url\u001b[38;5;241m=\u001b[39murl,\n\u001b[0;32m    489\u001b[0m         body\u001b[38;5;241m=\u001b[39mrequest\u001b[38;5;241m.\u001b[39mbody,\n\u001b[0;32m    490\u001b[0m         headers\u001b[38;5;241m=\u001b[39mrequest\u001b[38;5;241m.\u001b[39mheaders,\n\u001b[0;32m    491\u001b[0m         redirect\u001b[38;5;241m=\u001b[39m\u001b[38;5;28;01mFalse\u001b[39;00m,\n\u001b[0;32m    492\u001b[0m         assert_same_host\u001b[38;5;241m=\u001b[39m\u001b[38;5;28;01mFalse\u001b[39;00m,\n\u001b[0;32m    493\u001b[0m         preload_content\u001b[38;5;241m=\u001b[39m\u001b[38;5;28;01mFalse\u001b[39;00m,\n\u001b[0;32m    494\u001b[0m         decode_content\u001b[38;5;241m=\u001b[39m\u001b[38;5;28;01mFalse\u001b[39;00m,\n\u001b[0;32m    495\u001b[0m         retries\u001b[38;5;241m=\u001b[39m\u001b[38;5;28mself\u001b[39m\u001b[38;5;241m.\u001b[39mmax_retries,\n\u001b[0;32m    496\u001b[0m         timeout\u001b[38;5;241m=\u001b[39mtimeout,\n\u001b[0;32m    497\u001b[0m         chunked\u001b[38;5;241m=\u001b[39mchunked,\n\u001b[0;32m    498\u001b[0m     )\n\u001b[0;32m    500\u001b[0m \u001b[38;5;28;01mexcept\u001b[39;00m (ProtocolError, \u001b[38;5;167;01mOSError\u001b[39;00m) \u001b[38;5;28;01mas\u001b[39;00m err:\n\u001b[0;32m    501\u001b[0m     \u001b[38;5;28;01mraise\u001b[39;00m \u001b[38;5;167;01mConnectionError\u001b[39;00m(err, request\u001b[38;5;241m=\u001b[39mrequest)\n",
      "File \u001b[1;32m~\\anaconda3\\Lib\\site-packages\\urllib3\\connectionpool.py:715\u001b[0m, in \u001b[0;36mHTTPConnectionPool.urlopen\u001b[1;34m(self, method, url, body, headers, retries, redirect, assert_same_host, timeout, pool_timeout, release_conn, chunked, body_pos, **response_kw)\u001b[0m\n\u001b[0;32m    712\u001b[0m     \u001b[38;5;28mself\u001b[39m\u001b[38;5;241m.\u001b[39m_prepare_proxy(conn)\n\u001b[0;32m    714\u001b[0m \u001b[38;5;66;03m# Make the request on the httplib connection object.\u001b[39;00m\n\u001b[1;32m--> 715\u001b[0m httplib_response \u001b[38;5;241m=\u001b[39m \u001b[38;5;28mself\u001b[39m\u001b[38;5;241m.\u001b[39m_make_request(\n\u001b[0;32m    716\u001b[0m     conn,\n\u001b[0;32m    717\u001b[0m     method,\n\u001b[0;32m    718\u001b[0m     url,\n\u001b[0;32m    719\u001b[0m     timeout\u001b[38;5;241m=\u001b[39mtimeout_obj,\n\u001b[0;32m    720\u001b[0m     body\u001b[38;5;241m=\u001b[39mbody,\n\u001b[0;32m    721\u001b[0m     headers\u001b[38;5;241m=\u001b[39mheaders,\n\u001b[0;32m    722\u001b[0m     chunked\u001b[38;5;241m=\u001b[39mchunked,\n\u001b[0;32m    723\u001b[0m )\n\u001b[0;32m    725\u001b[0m \u001b[38;5;66;03m# If we're going to release the connection in ``finally:``, then\u001b[39;00m\n\u001b[0;32m    726\u001b[0m \u001b[38;5;66;03m# the response doesn't need to know about the connection. Otherwise\u001b[39;00m\n\u001b[0;32m    727\u001b[0m \u001b[38;5;66;03m# it will also try to release it and we'll have a double-release\u001b[39;00m\n\u001b[0;32m    728\u001b[0m \u001b[38;5;66;03m# mess.\u001b[39;00m\n\u001b[0;32m    729\u001b[0m response_conn \u001b[38;5;241m=\u001b[39m conn \u001b[38;5;28;01mif\u001b[39;00m \u001b[38;5;129;01mnot\u001b[39;00m release_conn \u001b[38;5;28;01melse\u001b[39;00m \u001b[38;5;28;01mNone\u001b[39;00m\n",
      "File \u001b[1;32m~\\anaconda3\\Lib\\site-packages\\urllib3\\connectionpool.py:404\u001b[0m, in \u001b[0;36mHTTPConnectionPool._make_request\u001b[1;34m(self, conn, method, url, timeout, chunked, **httplib_request_kw)\u001b[0m\n\u001b[0;32m    402\u001b[0m \u001b[38;5;66;03m# Trigger any extra validation we need to do.\u001b[39;00m\n\u001b[0;32m    403\u001b[0m \u001b[38;5;28;01mtry\u001b[39;00m:\n\u001b[1;32m--> 404\u001b[0m     \u001b[38;5;28mself\u001b[39m\u001b[38;5;241m.\u001b[39m_validate_conn(conn)\n\u001b[0;32m    405\u001b[0m \u001b[38;5;28;01mexcept\u001b[39;00m (SocketTimeout, BaseSSLError) \u001b[38;5;28;01mas\u001b[39;00m e:\n\u001b[0;32m    406\u001b[0m     \u001b[38;5;66;03m# Py2 raises this as a BaseSSLError, Py3 raises it as socket timeout.\u001b[39;00m\n\u001b[0;32m    407\u001b[0m     \u001b[38;5;28mself\u001b[39m\u001b[38;5;241m.\u001b[39m_raise_timeout(err\u001b[38;5;241m=\u001b[39me, url\u001b[38;5;241m=\u001b[39murl, timeout_value\u001b[38;5;241m=\u001b[39mconn\u001b[38;5;241m.\u001b[39mtimeout)\n",
      "File \u001b[1;32m~\\anaconda3\\Lib\\site-packages\\urllib3\\connectionpool.py:1058\u001b[0m, in \u001b[0;36mHTTPSConnectionPool._validate_conn\u001b[1;34m(self, conn)\u001b[0m\n\u001b[0;32m   1056\u001b[0m \u001b[38;5;66;03m# Force connect early to allow us to validate the connection.\u001b[39;00m\n\u001b[0;32m   1057\u001b[0m \u001b[38;5;28;01mif\u001b[39;00m \u001b[38;5;129;01mnot\u001b[39;00m \u001b[38;5;28mgetattr\u001b[39m(conn, \u001b[38;5;124m\"\u001b[39m\u001b[38;5;124msock\u001b[39m\u001b[38;5;124m\"\u001b[39m, \u001b[38;5;28;01mNone\u001b[39;00m):  \u001b[38;5;66;03m# AppEngine might not have  `.sock`\u001b[39;00m\n\u001b[1;32m-> 1058\u001b[0m     conn\u001b[38;5;241m.\u001b[39mconnect()\n\u001b[0;32m   1060\u001b[0m \u001b[38;5;28;01mif\u001b[39;00m \u001b[38;5;129;01mnot\u001b[39;00m conn\u001b[38;5;241m.\u001b[39mis_verified:\n\u001b[0;32m   1061\u001b[0m     warnings\u001b[38;5;241m.\u001b[39mwarn(\n\u001b[0;32m   1062\u001b[0m         (\n\u001b[0;32m   1063\u001b[0m             \u001b[38;5;124m\"\u001b[39m\u001b[38;5;124mUnverified HTTPS request is being made to host \u001b[39m\u001b[38;5;124m'\u001b[39m\u001b[38;5;132;01m%s\u001b[39;00m\u001b[38;5;124m'\u001b[39m\u001b[38;5;124m. \u001b[39m\u001b[38;5;124m\"\u001b[39m\n\u001b[1;32m   (...)\u001b[0m\n\u001b[0;32m   1068\u001b[0m         InsecureRequestWarning,\n\u001b[0;32m   1069\u001b[0m     )\n",
      "File \u001b[1;32m~\\anaconda3\\Lib\\site-packages\\urllib3\\connection.py:419\u001b[0m, in \u001b[0;36mHTTPSConnection.connect\u001b[1;34m(self)\u001b[0m\n\u001b[0;32m    410\u001b[0m \u001b[38;5;28;01mif\u001b[39;00m (\n\u001b[0;32m    411\u001b[0m     \u001b[38;5;129;01mnot\u001b[39;00m \u001b[38;5;28mself\u001b[39m\u001b[38;5;241m.\u001b[39mca_certs\n\u001b[0;32m    412\u001b[0m     \u001b[38;5;129;01mand\u001b[39;00m \u001b[38;5;129;01mnot\u001b[39;00m \u001b[38;5;28mself\u001b[39m\u001b[38;5;241m.\u001b[39mca_cert_dir\n\u001b[1;32m   (...)\u001b[0m\n\u001b[0;32m    415\u001b[0m     \u001b[38;5;129;01mand\u001b[39;00m \u001b[38;5;28mhasattr\u001b[39m(context, \u001b[38;5;124m\"\u001b[39m\u001b[38;5;124mload_default_certs\u001b[39m\u001b[38;5;124m\"\u001b[39m)\n\u001b[0;32m    416\u001b[0m ):\n\u001b[0;32m    417\u001b[0m     context\u001b[38;5;241m.\u001b[39mload_default_certs()\n\u001b[1;32m--> 419\u001b[0m \u001b[38;5;28mself\u001b[39m\u001b[38;5;241m.\u001b[39msock \u001b[38;5;241m=\u001b[39m ssl_wrap_socket(\n\u001b[0;32m    420\u001b[0m     sock\u001b[38;5;241m=\u001b[39mconn,\n\u001b[0;32m    421\u001b[0m     keyfile\u001b[38;5;241m=\u001b[39m\u001b[38;5;28mself\u001b[39m\u001b[38;5;241m.\u001b[39mkey_file,\n\u001b[0;32m    422\u001b[0m     certfile\u001b[38;5;241m=\u001b[39m\u001b[38;5;28mself\u001b[39m\u001b[38;5;241m.\u001b[39mcert_file,\n\u001b[0;32m    423\u001b[0m     key_password\u001b[38;5;241m=\u001b[39m\u001b[38;5;28mself\u001b[39m\u001b[38;5;241m.\u001b[39mkey_password,\n\u001b[0;32m    424\u001b[0m     ca_certs\u001b[38;5;241m=\u001b[39m\u001b[38;5;28mself\u001b[39m\u001b[38;5;241m.\u001b[39mca_certs,\n\u001b[0;32m    425\u001b[0m     ca_cert_dir\u001b[38;5;241m=\u001b[39m\u001b[38;5;28mself\u001b[39m\u001b[38;5;241m.\u001b[39mca_cert_dir,\n\u001b[0;32m    426\u001b[0m     ca_cert_data\u001b[38;5;241m=\u001b[39m\u001b[38;5;28mself\u001b[39m\u001b[38;5;241m.\u001b[39mca_cert_data,\n\u001b[0;32m    427\u001b[0m     server_hostname\u001b[38;5;241m=\u001b[39mserver_hostname,\n\u001b[0;32m    428\u001b[0m     ssl_context\u001b[38;5;241m=\u001b[39mcontext,\n\u001b[0;32m    429\u001b[0m     tls_in_tls\u001b[38;5;241m=\u001b[39mtls_in_tls,\n\u001b[0;32m    430\u001b[0m )\n\u001b[0;32m    432\u001b[0m \u001b[38;5;66;03m# If we're using all defaults and the connection\u001b[39;00m\n\u001b[0;32m    433\u001b[0m \u001b[38;5;66;03m# is TLSv1 or TLSv1.1 we throw a DeprecationWarning\u001b[39;00m\n\u001b[0;32m    434\u001b[0m \u001b[38;5;66;03m# for the host.\u001b[39;00m\n\u001b[0;32m    435\u001b[0m \u001b[38;5;28;01mif\u001b[39;00m (\n\u001b[0;32m    436\u001b[0m     default_ssl_context\n\u001b[0;32m    437\u001b[0m     \u001b[38;5;129;01mand\u001b[39;00m \u001b[38;5;28mself\u001b[39m\u001b[38;5;241m.\u001b[39mssl_version \u001b[38;5;129;01mis\u001b[39;00m \u001b[38;5;28;01mNone\u001b[39;00m\n\u001b[0;32m    438\u001b[0m     \u001b[38;5;129;01mand\u001b[39;00m \u001b[38;5;28mhasattr\u001b[39m(\u001b[38;5;28mself\u001b[39m\u001b[38;5;241m.\u001b[39msock, \u001b[38;5;124m\"\u001b[39m\u001b[38;5;124mversion\u001b[39m\u001b[38;5;124m\"\u001b[39m)\n\u001b[0;32m    439\u001b[0m     \u001b[38;5;129;01mand\u001b[39;00m \u001b[38;5;28mself\u001b[39m\u001b[38;5;241m.\u001b[39msock\u001b[38;5;241m.\u001b[39mversion() \u001b[38;5;129;01min\u001b[39;00m {\u001b[38;5;124m\"\u001b[39m\u001b[38;5;124mTLSv1\u001b[39m\u001b[38;5;124m\"\u001b[39m, \u001b[38;5;124m\"\u001b[39m\u001b[38;5;124mTLSv1.1\u001b[39m\u001b[38;5;124m\"\u001b[39m}\n\u001b[0;32m    440\u001b[0m ):\n",
      "File \u001b[1;32m~\\anaconda3\\Lib\\site-packages\\urllib3\\util\\ssl_.py:402\u001b[0m, in \u001b[0;36mssl_wrap_socket\u001b[1;34m(sock, keyfile, certfile, cert_reqs, ca_certs, server_hostname, ssl_version, ciphers, ssl_context, ca_cert_dir, key_password, ca_cert_data, tls_in_tls)\u001b[0m\n\u001b[0;32m    400\u001b[0m \u001b[38;5;28;01mif\u001b[39;00m ca_certs \u001b[38;5;129;01mor\u001b[39;00m ca_cert_dir \u001b[38;5;129;01mor\u001b[39;00m ca_cert_data:\n\u001b[0;32m    401\u001b[0m     \u001b[38;5;28;01mtry\u001b[39;00m:\n\u001b[1;32m--> 402\u001b[0m         context\u001b[38;5;241m.\u001b[39mload_verify_locations(ca_certs, ca_cert_dir, ca_cert_data)\n\u001b[0;32m    403\u001b[0m     \u001b[38;5;28;01mexcept\u001b[39;00m (\u001b[38;5;167;01mIOError\u001b[39;00m, \u001b[38;5;167;01mOSError\u001b[39;00m) \u001b[38;5;28;01mas\u001b[39;00m e:\n\u001b[0;32m    404\u001b[0m         \u001b[38;5;28;01mraise\u001b[39;00m SSLError(e)\n",
      "\u001b[1;31mKeyboardInterrupt\u001b[0m: "
     ]
    }
   ],
   "source": [
    "import os\n",
    "import requests\n",
    "\n",
    "for link in list_all_parts[0][:10]:\n",
    "    driver.get(link)\n",
    "    time.sleep(3)\n",
    "    \n",
    "    \n",
    "    \n",
    "    html = driver.page_source\n",
    "    soup = BeautifulSoup(html, 'lxml')\n",
    "    nom_hotel=soup.find('h2',{'class':'aceeb7ecbc pp-header__title'}).text.strip()\n",
    "    try:\n",
    "        # Cliquez sur le bouton pour afficher les images\n",
    "        image_button = driver.find_element(By.XPATH, '/html/body/div[4]/div/div[4]/div[1]/div[1]/div[1]/div[1]/div[3]/div/div/div/div[1]')\n",
    "        image_button.click()\n",
    "        time.sleep(3)\n",
    "        \n",
    "        # Analysez la page pour trouver les liens d'image\n",
    "        html = driver.page_source\n",
    "        soup = BeautifulSoup(html, 'lxml')\n",
    "        all_images_balise = soup.find('div', {'class': 'bh-photo-modal-thumbs-grid__main'}).find_all('li', {'class': 'bh-photo-modal-masonry-grid-item caption_hover'})\n",
    "        \n",
    "        for i, one_image in enumerate(all_images_balise):\n",
    "            image_link = one_image.find('a').get('href')\n",
    "            print(image_link)\n",
    "            # Télécharger l'image\n",
    "            try:\n",
    "                image_response = requests.get(image_link, stream=True)\n",
    "                if image_response.status_code == 200:\n",
    "                    image_path = os.path.join(r'C:\\chromedriver\\chromedriver-win64\\chromedriver.exe', f'image_{nom_hotel}_{i+1}.jpg')\n",
    "                    with open(image_path, 'wb') as file:\n",
    "                        for chunk in image_response.iter_content(1024):\n",
    "                            file.write(chunk)\n",
    "            except Exception as e:\n",
    "                print(f\"Erreur lors du téléchargement de l'image: {e}\")\n",
    "\n",
    "    except NoSuchElementException:\n",
    "        print(f\"Un élément n'a pas été trouvé pour l'URL: {link}\")\n",
    "        continue\n",
    "    "
   ]
  },
  {
   "cell_type": "code",
   "execution_count": null,
   "id": "7158c65c",
   "metadata": {},
   "outputs": [],
   "source": []
  }
 ],
 "metadata": {
  "kernelspec": {
   "display_name": "Python 3 (ipykernel)",
   "language": "python",
   "name": "python3"
  },
  "language_info": {
   "codemirror_mode": {
    "name": "ipython",
    "version": 3
   },
   "file_extension": ".py",
   "mimetype": "text/x-python",
   "name": "python",
   "nbconvert_exporter": "python",
   "pygments_lexer": "ipython3",
   "version": "3.11.7"
  }
 },
 "nbformat": 4,
 "nbformat_minor": 5
}
